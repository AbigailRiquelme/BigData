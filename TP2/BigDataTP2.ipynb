{
 "cells": [
  {
   "cell_type": "markdown",
   "id": "83fef6b6",
   "metadata": {},
   "source": [
    "_______________________\n",
    "\n",
    "\n",
    "\n",
    "\n",
    "# <span style=\"color:pink\"> Trabajo Práctico 2 - Big Data </span>\n",
    "\n",
    "\n",
    "_______________________\n",
    "\n",
    "<span style=\"color:#581845\">***Clasificación aplicada a la EPH*** \n",
    "</span>\n",
    "\n",
    "\n",
    "<span style=\"color:#C70039\">Florencia Pucci, Abigail Riquelme, Judith Sardinas \n",
    "</span>\n",
    "\n"
   ]
  },
  {
   "cell_type": "markdown",
   "id": "bcfbb892",
   "metadata": {},
   "source": [
    "### Parte 1: Analizamos la base "
   ]
  },
  {
   "cell_type": "markdown",
   "id": "ba843a36",
   "metadata": {},
   "source": [
    "##### Pasos previos "
   ]
  },
  {
   "cell_type": "code",
   "execution_count": 100,
   "id": "ecb89a5f",
   "metadata": {},
   "outputs": [],
   "source": [
    "# Definimos nuestro directorio de trabajo\n",
    "directorio_tp=\"C:\\\\Users\\\\Flor\\\\Documents\\\\GitHub\\\\Big data\\\\TrabajosPracticos-Grupo8\\\\TP2\""
   ]
  },
  {
   "cell_type": "code",
   "execution_count": 26,
   "id": "fd39e7fe",
   "metadata": {},
   "outputs": [],
   "source": [
    "directorio_tp=\"C:\\\\Users\\\\Abi\\\\Documents\\\\GitHub\\\\TrabajosPracticos-Grupo8\\\\TP2\""
   ]
  },
  {
   "cell_type": "code",
   "execution_count": 27,
   "id": "5a6d7ab9",
   "metadata": {},
   "outputs": [
    {
     "data": {
      "text/plain": [
       "'C:\\\\Users\\\\Abi\\\\Documents\\\\GitHub\\\\TrabajosPracticos-Grupo8\\\\TP2'"
      ]
     },
     "execution_count": 27,
     "metadata": {},
     "output_type": "execute_result"
    }
   ],
   "source": [
    "import os\n",
    "\n",
    "# Modificamos el directorio de trabajo\n",
    "os.chdir(directorio_tp) \n",
    "\n",
    "# Verificamos que el directorio sea el correcto\n",
    "os.getcwd()"
   ]
  },
  {
   "cell_type": "code",
   "execution_count": 28,
   "id": "d7daafce",
   "metadata": {},
   "outputs": [],
   "source": [
    "# Importamos el paquete pandas\n",
    "import pandas as pd "
   ]
  },
  {
   "cell_type": "code",
   "execution_count": 29,
   "id": "88f09260",
   "metadata": {},
   "outputs": [],
   "source": [
    "# Abrimos la base de datos, la llamaremos eph_2021:\n",
    "eph_2021=pd.read_excel('usu_individual_T121.xlsx')"
   ]
  },
  {
   "cell_type": "markdown",
   "id": "aa1e7f32",
   "metadata": {},
   "source": [
    "##### 2.a"
   ]
  },
  {
   "cell_type": "code",
   "execution_count": 30,
   "id": "56e30985",
   "metadata": {},
   "outputs": [],
   "source": [
    "# Eliminamos todas las observaciones que no corresponden a los aglomerados de Ciu-\n",
    "# dad Autónoma de Buenos Aires o Gran Buenos Aires.\n",
    "eph_2021 = eph_2021[eph_2021.REGION == 1]"
   ]
  },
  {
   "cell_type": "markdown",
   "id": "dd845a0d",
   "metadata": {},
   "source": [
    "##### 2.b"
   ]
  },
  {
   "cell_type": "code",
   "execution_count": 31,
   "id": "ffc08cc0",
   "metadata": {},
   "outputs": [
    {
     "data": {
      "text/plain": [
       "4082"
      ]
     },
     "execution_count": 31,
     "metadata": {},
     "output_type": "execute_result"
    }
   ],
   "source": [
    "# Observamos la base de datos: \n",
    "len(eph_2021.index) "
   ]
  },
  {
   "cell_type": "code",
   "execution_count": 32,
   "id": "1b16412c",
   "metadata": {},
   "outputs": [
    {
     "data": {
      "text/plain": [
       "['CODUSU',\n",
       " 'ANO4',\n",
       " 'TRIMESTRE',\n",
       " 'NRO_HOGAR',\n",
       " 'COMPONENTE',\n",
       " 'H15',\n",
       " 'REGION',\n",
       " 'MAS_500',\n",
       " 'AGLOMERADO',\n",
       " 'PONDERA',\n",
       " 'CH03',\n",
       " 'CH04',\n",
       " 'CH05',\n",
       " 'CH06',\n",
       " 'CH07',\n",
       " 'CH08',\n",
       " 'CH09',\n",
       " 'CH10',\n",
       " 'CH11',\n",
       " 'CH12',\n",
       " 'CH13',\n",
       " 'CH14',\n",
       " 'CH15',\n",
       " 'CH15_COD',\n",
       " 'CH16',\n",
       " 'CH16_COD',\n",
       " 'NIVEL_ED',\n",
       " 'ESTADO',\n",
       " 'CAT_OCUP',\n",
       " 'CAT_INAC',\n",
       " 'IMPUTA',\n",
       " 'PP02C1',\n",
       " 'PP02C2',\n",
       " 'PP02C3',\n",
       " 'PP02C4',\n",
       " 'PP02C5',\n",
       " 'PP02C6',\n",
       " 'PP02C7',\n",
       " 'PP02C8',\n",
       " 'PP02E',\n",
       " 'PP02H',\n",
       " 'PP02I',\n",
       " 'PP03C',\n",
       " 'PP03D',\n",
       " 'PP3E_TOT',\n",
       " 'PP3F_TOT',\n",
       " 'PP03G',\n",
       " 'PP03H',\n",
       " 'PP03I',\n",
       " 'PP03J',\n",
       " 'INTENSI',\n",
       " 'PP04A',\n",
       " 'PP04B_COD',\n",
       " 'PP04B1',\n",
       " 'PP04B2',\n",
       " 'PP04B3_MES',\n",
       " 'PP04B3_ANO',\n",
       " 'PP04B3_DIA',\n",
       " 'PP04C',\n",
       " 'PP04C99',\n",
       " 'PP04D_COD',\n",
       " 'PP04G',\n",
       " 'PP05B2_MES',\n",
       " 'PP05B2_ANO',\n",
       " 'PP05B2_DIA',\n",
       " 'PP05C_1',\n",
       " 'PP05C_2',\n",
       " 'PP05C_3',\n",
       " 'PP05E',\n",
       " 'PP05F',\n",
       " 'PP05H',\n",
       " 'PP06A',\n",
       " 'PP06C',\n",
       " 'PP06D',\n",
       " 'PP06E',\n",
       " 'PP06H',\n",
       " 'PP07A',\n",
       " 'PP07C',\n",
       " 'PP07D',\n",
       " 'PP07E',\n",
       " 'PP07F1',\n",
       " 'PP07F2',\n",
       " 'PP07F3',\n",
       " 'PP07F4',\n",
       " 'PP07F5',\n",
       " 'PP07G1',\n",
       " 'PP07G2',\n",
       " 'PP07G3',\n",
       " 'PP07G4',\n",
       " 'PP07G_59',\n",
       " 'PP07H',\n",
       " 'PP07I',\n",
       " 'PP07J',\n",
       " 'PP07K',\n",
       " 'PP08D1',\n",
       " 'PP08D4',\n",
       " 'PP08F1',\n",
       " 'PP08F2',\n",
       " 'PP08J1',\n",
       " 'PP08J2',\n",
       " 'PP08J3',\n",
       " 'PP09A',\n",
       " 'PP09A_ESP',\n",
       " 'PP09B',\n",
       " 'PP09C',\n",
       " 'PP09C_ESP',\n",
       " 'PP10A',\n",
       " 'PP10C',\n",
       " 'PP10D',\n",
       " 'PP10E',\n",
       " 'PP11A',\n",
       " 'PP11B_COD',\n",
       " 'PP11B1',\n",
       " 'PP11B2_MES',\n",
       " 'PP11B2_ANO',\n",
       " 'PP11B2_DIA',\n",
       " 'PP11C',\n",
       " 'PP11C99',\n",
       " 'PP11D_COD',\n",
       " 'PP11G_ANO',\n",
       " 'PP11G_MES',\n",
       " 'PP11G_DIA',\n",
       " 'PP11L',\n",
       " 'PP11L1',\n",
       " 'PP11M',\n",
       " 'PP11N',\n",
       " 'PP11O',\n",
       " 'PP11P',\n",
       " 'PP11Q',\n",
       " 'PP11R',\n",
       " 'PP11S',\n",
       " 'PP11T',\n",
       " 'P21',\n",
       " 'DECOCUR',\n",
       " 'IDECOCUR',\n",
       " 'RDECOCUR',\n",
       " 'GDECOCUR',\n",
       " 'PDECOCUR',\n",
       " 'ADECOCUR',\n",
       " 'PONDIIO',\n",
       " 'TOT_P12',\n",
       " 'P47T',\n",
       " 'DECINDR',\n",
       " 'IDECINDR',\n",
       " 'RDECINDR',\n",
       " 'GDECINDR',\n",
       " 'PDECINDR',\n",
       " 'ADECINDR',\n",
       " 'PONDII',\n",
       " 'V2_M',\n",
       " 'V3_M',\n",
       " 'V4_M',\n",
       " 'V5_M',\n",
       " 'V8_M',\n",
       " 'V9_M',\n",
       " 'V10_M',\n",
       " 'V11_M',\n",
       " 'V12_M',\n",
       " 'V18_M',\n",
       " 'V19_AM',\n",
       " 'V21_M',\n",
       " 'T_VI',\n",
       " 'ITF',\n",
       " 'DECIFR',\n",
       " 'IDECIFR',\n",
       " 'RDECIFR',\n",
       " 'GDECIFR',\n",
       " 'PDECIFR',\n",
       " 'ADECIFR',\n",
       " 'IPCF',\n",
       " 'DECCFR',\n",
       " 'IDECCFR',\n",
       " 'RDECCFR',\n",
       " 'GDECCFR',\n",
       " 'PDECCFR',\n",
       " 'ADECCFR',\n",
       " 'PONDIH']"
      ]
     },
     "execution_count": 32,
     "metadata": {},
     "output_type": "execute_result"
    }
   ],
   "source": [
    "# Listamos a todas las variables que tiene la base\n",
    "list(eph_2021)"
   ]
  },
  {
   "cell_type": "code",
   "execution_count": 33,
   "id": "f5d4797b",
   "metadata": {},
   "outputs": [],
   "source": [
    "# Ahora nuestro objetivo es eliminar las observaciones que no tienen sentido. \n",
    "# Lista de variables que deberían tomar valores positivos: # agregar las de deciles, buscar \"dec\"\n",
    "var_positivas = ['PP04B2','PP04B3_ANO','PP04B3_DIA',\n",
    " 'PP04B3_MES','P47T','PONDII',\n",
    "'V2_M','V3_M','V4_M','V5_M','V8_M','V9_M','V10_M',\n",
    "'V11_M','V12_M','V18_M','V19_AM','V21_M','T_VI','ITF','IPCF','PONDIH', 'CH06'] "
   ]
  },
  {
   "cell_type": "code",
   "execution_count": 34,
   "id": "ce7c23e0",
   "metadata": {},
   "outputs": [],
   "source": [
    "# El siguiente loop filtra para cada una de las variables de la lista los valores \n",
    "# mayores o iguales a cero. Nos quedamos solo con las observaciones que toman \n",
    "# valores positivos para estas variables.\n",
    "for var in var_positivas:\n",
    "    eph_2021_c = eph_2021.loc[(eph_2021[var]>=0)]\n",
    "    \n",
    "# se soluciona haciendo que eph_2021= (sin el c, para que no cree una nueva base), solución"
   ]
  },
  {
   "cell_type": "code",
   "execution_count": 35,
   "id": "1e697f53",
   "metadata": {},
   "outputs": [
    {
     "data": {
      "text/plain": [
       "4049"
      ]
     },
     "execution_count": 35,
     "metadata": {},
     "output_type": "execute_result"
    }
   ],
   "source": [
    "len(eph_2021_c.index) "
   ]
  },
  {
   "cell_type": "markdown",
   "id": "df482254",
   "metadata": {},
   "source": [
    "##### 2.c"
   ]
  },
  {
   "cell_type": "code",
   "execution_count": 36,
   "id": "4656341f",
   "metadata": {},
   "outputs": [],
   "source": [
    "# A continuación realizaremos los gráficos de barras para mostrar la composición por sexos.\n",
    "# Importamos los paquetes para hacer los gráficos:\n",
    "import matplotlib.pyplot as plt\n",
    "import seaborn as sns\n",
    "import numpy as np\n",
    "from PIL import Image\n",
    "import ipywidgets as widgets\n",
    "from IPython.display import display"
   ]
  },
  {
   "cell_type": "code",
   "execution_count": 37,
   "id": "60de8629",
   "metadata": {},
   "outputs": [
    {
     "name": "stdout",
     "output_type": "stream",
     "text": [
      "[1, 2]\n"
     ]
    }
   ],
   "source": [
    "# Listamos los valores que toma la variable sexo en la base:\n",
    "lista_sexos = list(set(eph_2021_c['CH04']))\n",
    "print(lista_sexos)"
   ]
  },
  {
   "cell_type": "code",
   "execution_count": 38,
   "id": "ec0e7d74",
   "metadata": {},
   "outputs": [
    {
     "data": {
      "image/png": "[encoded data removed]",
      "text/plain": [
       "<Figure size 504x432 with 1 Axes>"
      ]
     },
     "metadata": {},
     "output_type": "display_data"
    }
   ],
   "source": [
    "#Gráfico de barras que muestra la composición de la muestra por sexo:\n",
    "with plt.style.context('seaborn-whitegrid'):\n",
    "    eph_2021_c.groupby('CH04').count()['CODUSU'].plot(kind='bar', color=('plum', 'greenyellow'),figsize=(7, 6), rot=0)\n",
    "    plt.xlabel('Sexo',labelpad=10,fontsize='12')\n",
    "    plt.ylabel('Cantidad de personas',labelpad=15, fontsize='12')\n",
    "    plt.title('EPH (CABA y GBA), composición por sexo', y=1.05, fontsize='20')\n",
    "    colors ={'Hombres':'plum','Mujeres':'greenyellow'}\n",
    "    labels = list(colors.keys())\n",
    "    handles = [plt.Rectangle((1,1),0.5,0.5, color=colors[label]) for label in labels]\n",
    "    plt.legend(handles, labels)\n",
    "\n",
    "# Guardamos el gráfico: \n",
    "plt.savefig(\"Figurafinal2c.jpg\", bbox_inches='tight')"
   ]
  },
  {
   "cell_type": "markdown",
   "id": "250a298c",
   "metadata": {},
   "source": [
    "##### 2.d"
   ]
  },
  {
   "cell_type": "code",
   "execution_count": 39,
   "id": "d5dfd23a",
   "metadata": {},
   "outputs": [],
   "source": [
    "# Armamos una matriz con las variables que usaremos para hacer la matriz de correlaciones: \n",
    "eph_d=eph_2021_c.loc[:,['CH04','CH07', 'CH08', 'NIVEL_ED', 'CAT_INAC', 'IPCF']]"
   ]
  },
  {
   "cell_type": "code",
   "execution_count": 40,
   "id": "1000ec13",
   "metadata": {},
   "outputs": [],
   "source": [
    "# \n",
    "n_colors = 25 # Use 256 colors for the diverging color palette\n",
    "palette = sns.diverging_palette(20, 2, n=n_colors) # Create the palette\n",
    "color_min, color_max = [-1, 1] # Range of values that will be mapped to the palette, i.e. min and max possible correlation\n",
    "\n",
    "\n",
    "def value_to_color(val):\n",
    "    val_position = float((val - color_min)) / (color_max - color_min) # position of value in the input range, relative to the length of the input range\n",
    "    ind = int(val_position * (n_colors - 1)) # target index in the color palette\n",
    "    return palette[ind]\n"
   ]
  },
  {
   "cell_type": "code",
   "execution_count": 41,
   "id": "3ad8b954",
   "metadata": {},
   "outputs": [
    {
     "data": {
      "image/png": "[encoded data removed]",
      "text/plain": [
       "<Figure size 432x288 with 2 Axes>"
      ]
     },
     "metadata": {},
     "output_type": "display_data"
    }
   ],
   "source": [
    "# Elegimos uno de los siguientes gráficos y guardar la figura:\n",
    "\n",
    "with plt.style.context('seaborn-whitegrid'):\n",
    "    corr = eph_d.corr()\n",
    "    ax = sns.heatmap(\n",
    "        corr, \n",
    "        vmin=-1, vmax=1, center=0,\n",
    "        cmap=sns.diverging_palette(20, 220, n=200),\n",
    "        square=True\n",
    "    \n",
    "    )\n",
    "    ax.set_xticklabels(\n",
    "        ax.get_xticklabels(),\n",
    "        rotation=45,\n",
    "        horizontalalignment='right'\n",
    "    \n",
    "    );"
   ]
  },
  {
   "cell_type": "code",
   "execution_count": 42,
   "id": "fdb9a88b",
   "metadata": {},
   "outputs": [
    {
     "data": {
      "image/png": "[encoded data removed]",
      "text/plain": [
       "<Figure size 432x288 with 2 Axes>"
      ]
     },
     "metadata": {},
     "output_type": "display_data"
    }
   ],
   "source": [
    "with plt.style.context('seaborn-whitegrid'):\n",
    "    sns.heatmap(eph_d.corr(), annot = True, fmt='.1g',vmin=-1, vmax=1, center= 0, cmap= 'coolwarm')\n"
   ]
  },
  {
   "cell_type": "code",
   "execution_count": 43,
   "id": "12bf868c",
   "metadata": {},
   "outputs": [
    {
     "data": {
      "image/png": "[encoded data removed]",
      "text/plain": [
       "<Figure size 432x288 with 2 Axes>"
      ]
     },
     "metadata": {},
     "output_type": "display_data"
    }
   ],
   "source": [
    "with plt.style.context('seaborn-whitegrid'):\n",
    "    sns.heatmap(eph_d.corr(), annot = True, fmt='.1g',vmin=-1, vmax=1, center= 0, cmap= 'Pastel1') #### presentamos este gráfico\n",
    "# Guardamos el gráfico: \n",
    "plt.savefig(\"Figurafinal2d.jpg\", bbox_inches='tight')"
   ]
  },
  {
   "cell_type": "code",
   "execution_count": 44,
   "id": "fe2b01ef",
   "metadata": {},
   "outputs": [
    {
     "data": {
      "image/png": "[encoded data removed]",
      "text/plain": [
       "<Figure size 432x288 with 2 Axes>"
      ]
     },
     "metadata": {},
     "output_type": "display_data"
    }
   ],
   "source": [
    "with plt.style.context('seaborn-whitegrid'):\n",
    "    sns.heatmap(eph_d.corr(), annot = True, fmt='.1g',vmin=-1, vmax=1, center= 0, cmap= 'pink')\n"
   ]
  },
  {
   "cell_type": "code",
   "execution_count": 45,
   "id": "a0fa2997",
   "metadata": {},
   "outputs": [
    {
     "data": {
      "image/png": "[encoded data removed]",
      "text/plain": [
       "<Figure size 432x288 with 2 Axes>"
      ]
     },
     "metadata": {},
     "output_type": "display_data"
    }
   ],
   "source": [
    "with plt.style.context('seaborn-whitegrid'):\n",
    "    sns.heatmap(eph_d.corr(), annot = True, fmt='.1g',vmin=-1, vmax=1, center= 0, cmap= 'PuOr')\n"
   ]
  },
  {
   "cell_type": "markdown",
   "id": "d244389b",
   "metadata": {},
   "source": [
    "##### 2.e"
   ]
  },
  {
   "cell_type": "code",
   "execution_count": 46,
   "id": "058d2332",
   "metadata": {},
   "outputs": [
    {
     "data": {
      "text/plain": [
       "[0, 1, 2, 3, 4]"
      ]
     },
     "execution_count": 46,
     "metadata": {},
     "output_type": "execute_result"
    }
   ],
   "source": [
    "# Queremos saber cuántos desocupados en la muestra. Sabemos que la variable \n",
    "# \"Estado\" es la que contiene dicha información. \n",
    "lista_estados = list(set(eph_2021_c['ESTADO']))\n",
    "lista_estados\n"
   ]
  },
  {
   "cell_type": "code",
   "execution_count": 47,
   "id": "55158cc8",
   "metadata": {},
   "outputs": [
    {
     "data": {
      "image/png": "[encoded data removed]",
      "text/plain": [
       "<Figure size 864x864 with 1 Axes>"
      ]
     },
     "metadata": {},
     "output_type": "display_data"
    }
   ],
   "source": [
    "# Esta variable puede tomar 5 valores (0-4). Si toma un valor\n",
    "# igual a 2 indica que la persona está desocupada. \n",
    "\n",
    "\n",
    "# Antes de averiguar cuántos desocupados hay, consideramos interesante \n",
    "# realizar un histograma con los valores que toma la variable \"Estado\": \n",
    "with plt.style.context('seaborn-whitegrid'):\n",
    "    eph_2021_c.groupby('ESTADO').count()['CODUSU'].plot(kind='bar', color=('plum', 'greenyellow','aquamarine','tomato','violet'),figsize=(12, 12), rot=0)\n",
    "    plt.xlabel('Estado laboral',labelpad=10,fontsize='12')\n",
    "    plt.ylabel('Cantidad de personas',labelpad=15, fontsize='12')\n",
    "    plt.title('EPH (CABA y GBA), composición por estado laboral', y=1.05)\n",
    "    colors ={'No realizada':'plum','Ocupado':'greenyellow','Desocupado':'aquamarine','Inactivo':'tomato','Menor de 10 años':'violet'}\n",
    "    labels = list(colors.keys())\n",
    "    handles = [plt.Rectangle((0,0),0.5,0.5, color=colors[label]) for label in labels]\n",
    "    plt.legend(handles, labels)\n",
    "    \n",
    "# Guardamos el gráfico: \n",
    "# Guardamos el gráfico: \n",
    "plt.savefig(\"Figurafinal2e.jpg\", bbox_inches='tight')"
   ]
  },
  {
   "cell_type": "code",
   "execution_count": 48,
   "id": "a2818c5f",
   "metadata": {},
   "outputs": [
    {
     "data": {
      "text/html": [
       "<div>\n",
       "<style scoped>\n",
       "    .dataframe tbody tr th:only-of-type {\n",
       "        vertical-align: middle;\n",
       "    }\n",
       "\n",
       "    .dataframe tbody tr th {\n",
       "        vertical-align: top;\n",
       "    }\n",
       "\n",
       "    .dataframe thead tr th {\n",
       "        text-align: left;\n",
       "    }\n",
       "\n",
       "    .dataframe thead tr:last-of-type th {\n",
       "        text-align: right;\n",
       "    }\n",
       "</style>\n",
       "<table border=\"1\" class=\"dataframe\">\n",
       "  <thead>\n",
       "    <tr>\n",
       "      <th></th>\n",
       "      <th>ESTADO</th>\n",
       "    </tr>\n",
       "    <tr>\n",
       "      <th></th>\n",
       "      <th>count</th>\n",
       "    </tr>\n",
       "    <tr>\n",
       "      <th>ESTADO</th>\n",
       "      <th></th>\n",
       "    </tr>\n",
       "  </thead>\n",
       "  <tbody>\n",
       "    <tr>\n",
       "      <th>0</th>\n",
       "      <td>23</td>\n",
       "    </tr>\n",
       "    <tr>\n",
       "      <th>1</th>\n",
       "      <td>1737</td>\n",
       "    </tr>\n",
       "    <tr>\n",
       "      <th>2</th>\n",
       "      <td>213</td>\n",
       "    </tr>\n",
       "    <tr>\n",
       "      <th>3</th>\n",
       "      <td>1682</td>\n",
       "    </tr>\n",
       "    <tr>\n",
       "      <th>4</th>\n",
       "      <td>394</td>\n",
       "    </tr>\n",
       "  </tbody>\n",
       "</table>\n",
       "</div>"
      ],
      "text/plain": [
       "       ESTADO\n",
       "        count\n",
       "ESTADO       \n",
       "0          23\n",
       "1        1737\n",
       "2         213\n",
       "3        1682\n",
       "4         394"
      ]
     },
     "execution_count": 48,
     "metadata": {},
     "output_type": "execute_result"
    }
   ],
   "source": [
    "# Con el siguiente código podemos conocer cuál es la cantidad de desocupados\n",
    "# y de inactivos:\n",
    "\n",
    "eph_2021_c.groupby('ESTADO').agg({'ESTADO': ['count']})"
   ]
  },
  {
   "cell_type": "code",
   "execution_count": 49,
   "id": "4f5d9d7e",
   "metadata": {},
   "outputs": [
    {
     "data": {
      "text/html": [
       "<div>\n",
       "<style scoped>\n",
       "    .dataframe tbody tr th:only-of-type {\n",
       "        vertical-align: middle;\n",
       "    }\n",
       "\n",
       "    .dataframe tbody tr th {\n",
       "        vertical-align: top;\n",
       "    }\n",
       "\n",
       "    .dataframe thead tr th {\n",
       "        text-align: left;\n",
       "    }\n",
       "\n",
       "    .dataframe thead tr:last-of-type th {\n",
       "        text-align: right;\n",
       "    }\n",
       "</style>\n",
       "<table border=\"1\" class=\"dataframe\">\n",
       "  <thead>\n",
       "    <tr>\n",
       "      <th></th>\n",
       "      <th colspan=\"2\" halign=\"left\">IPCF</th>\n",
       "    </tr>\n",
       "    <tr>\n",
       "      <th></th>\n",
       "      <th>mean</th>\n",
       "      <th>count</th>\n",
       "    </tr>\n",
       "    <tr>\n",
       "      <th>ESTADO</th>\n",
       "      <th></th>\n",
       "      <th></th>\n",
       "    </tr>\n",
       "  </thead>\n",
       "  <tbody>\n",
       "    <tr>\n",
       "      <th>0</th>\n",
       "      <td>0.000000</td>\n",
       "      <td>23</td>\n",
       "    </tr>\n",
       "    <tr>\n",
       "      <th>1</th>\n",
       "      <td>23384.514980</td>\n",
       "      <td>1737</td>\n",
       "    </tr>\n",
       "    <tr>\n",
       "      <th>2</th>\n",
       "      <td>11920.305164</td>\n",
       "      <td>213</td>\n",
       "    </tr>\n",
       "    <tr>\n",
       "      <th>3</th>\n",
       "      <td>16739.573775</td>\n",
       "      <td>1682</td>\n",
       "    </tr>\n",
       "    <tr>\n",
       "      <th>4</th>\n",
       "      <td>12389.373426</td>\n",
       "      <td>394</td>\n",
       "    </tr>\n",
       "  </tbody>\n",
       "</table>\n",
       "</div>"
      ],
      "text/plain": [
       "                IPCF      \n",
       "                mean count\n",
       "ESTADO                    \n",
       "0           0.000000    23\n",
       "1       23384.514980  1737\n",
       "2       11920.305164   213\n",
       "3       16739.573775  1682\n",
       "4       12389.373426   394"
      ]
     },
     "execution_count": 49,
     "metadata": {},
     "output_type": "execute_result"
    }
   ],
   "source": [
    "# Con el siguiente código podemos conocer cuál es la cantidad de desocupados\n",
    "# y de inactivos, y además conocer cuál es la media de ingreso per cápita\n",
    "# familiar según el valor que toma la variable ESTADO. \n",
    "# Para esto usamos el comando visto en clase: \n",
    "# df.groupby(by=lista columnas agrupamiento).agg(dict var func)\n",
    "eph_2021_c[['ESTADO', 'IPCF']].groupby('ESTADO').agg({'IPCF':[\"mean\", \"count\"]})"
   ]
  },
  {
   "cell_type": "code",
   "execution_count": 50,
   "id": "41a73ada",
   "metadata": {},
   "outputs": [
    {
     "data": {
      "image/png": "[encoded data removed]",
      "text/plain": [
       "<Figure size 864x864 with 1 Axes>"
      ]
     },
     "metadata": {},
     "output_type": "display_data"
    }
   ],
   "source": [
    "# La siguiente figura representa de forma gráfica la información obtenida \n",
    "# en la línea anterior: \n",
    "with plt.style.context('seaborn-whitegrid'):    \n",
    "    df = eph_2021_c.replace(np.nan, 0)\n",
    "    dfg = eph_2021_c.groupby(['ESTADO'])['IPCF'].mean()\n",
    "    dfg.plot(kind='bar', title='Ingreso medio PC por estado laboral', ylabel='Ingreso medio PC', xlabel='Estado laboral', figsize=(12, 12),color=('plum', 'greenyellow','aquamarine','tomato','violet'))\n",
    "    colors ={'No realizada':'plum','Ocupado':'greenyellow','Desocupado':'aquamarine','Inactivo':'tomato','Menor de 10 años':'violet'}\n",
    "    labels = list(colors.keys())\n",
    "    handles = [plt.Rectangle((0,0),0.5,0.5, color=colors[label]) for label in labels]\n",
    "    plt.legend(handles, labels)\n",
    "    \n",
    "# Guardamos el gráfico: \n",
    "plt.savefig(\"Figurafinal2e2.jpg\", bbox_inches='tight')\n"
   ]
  },
  {
   "cell_type": "markdown",
   "id": "8cccf61d",
   "metadata": {},
   "source": [
    "##### 2.f"
   ]
  },
  {
   "cell_type": "code",
   "execution_count": 51,
   "id": "a3de543e",
   "metadata": {},
   "outputs": [],
   "source": [
    "# Utilizando el archivo tabla_adulto_equiv.xlsx, agregue una columna a su\n",
    "\n",
    "#base de datos llamada adulto_equiv que contenga los valores de adulto equi-\n",
    "#valente de cada persona según su sexo y edad (por ejemplo, a un varón de 2\n",
    "\n",
    "#años le corresponde 0.46). Finalmente, con el comando groupby sume esta nueva\n",
    "#columna para las personas que pertenecen a un mismo hogar y guarde ese dato\n",
    "#en una columna llamada ad_equiv_hogar1\n"
   ]
  },
  {
   "cell_type": "code",
   "execution_count": 52,
   "id": "25abfbe6",
   "metadata": {},
   "outputs": [],
   "source": [
    "equivalencia=pd.read_excel('tabla_adulto_equiv.xlsx')"
   ]
  },
  {
   "cell_type": "code",
   "execution_count": 53,
   "id": "91d63979",
   "metadata": {},
   "outputs": [],
   "source": [
    "# Guardamos los valores de las celdas en las listas \n",
    "equivalencia_filas=equivalencia.to_numpy().transpose().tolist()"
   ]
  },
  {
   "cell_type": "code",
   "execution_count": 54,
   "id": "a56c5520",
   "metadata": {},
   "outputs": [
    {
     "name": "stdout",
     "output_type": "stream",
     "text": [
      "['Menor de 1 año', '1año', '2 años', '3 años', '4 años', '5 años', '6 años', '7 años', '8 años', '9 años', '10 años', '11 años', '12 años', '13 años', '14 años', '15 años', '16 años', '17 años', '18 a 29 años', '30 a 45 años', '46 a 60 años', '61 a 75 años', 'más de 75 años']\n",
      "[0.35, 0.37, 0.46, 0.51, 0.55, 0.6, 0.64, 0.66, 0.68, 0.69, 0.7, 0.72, 0.74, 0.76, 0.76, 0.77, 0.77, 0.77, 0.76, 0.77, 0.76, 0.67, 0.63]\n",
      "[2, 2, 2, 2, 2, 2, 2, 2, 2, 2, 2, 2, 2, 2, 2, 2, 2, 2, 2, 2, 2, 2, 2, 2]\n"
     ]
    },
    {
     "data": {
      "text/html": [
       "<div>\n",
       "<style scoped>\n",
       "    .dataframe tbody tr th:only-of-type {\n",
       "        vertical-align: middle;\n",
       "    }\n",
       "\n",
       "    .dataframe tbody tr th {\n",
       "        vertical-align: top;\n",
       "    }\n",
       "\n",
       "    .dataframe thead th {\n",
       "        text-align: right;\n",
       "    }\n",
       "</style>\n",
       "<table border=\"1\" class=\"dataframe\">\n",
       "  <thead>\n",
       "    <tr style=\"text-align: right;\">\n",
       "      <th></th>\n",
       "      <th>edad</th>\n",
       "      <th>equivalencia</th>\n",
       "      <th>CH04</th>\n",
       "    </tr>\n",
       "  </thead>\n",
       "  <tbody>\n",
       "    <tr>\n",
       "      <th>0</th>\n",
       "      <td>Menor de 1 año</td>\n",
       "      <td>0.35</td>\n",
       "      <td>2</td>\n",
       "    </tr>\n",
       "    <tr>\n",
       "      <th>1</th>\n",
       "      <td>1año</td>\n",
       "      <td>0.37</td>\n",
       "      <td>2</td>\n",
       "    </tr>\n",
       "    <tr>\n",
       "      <th>2</th>\n",
       "      <td>2 años</td>\n",
       "      <td>0.46</td>\n",
       "      <td>2</td>\n",
       "    </tr>\n",
       "    <tr>\n",
       "      <th>3</th>\n",
       "      <td>3 años</td>\n",
       "      <td>0.51</td>\n",
       "      <td>2</td>\n",
       "    </tr>\n",
       "    <tr>\n",
       "      <th>4</th>\n",
       "      <td>4 años</td>\n",
       "      <td>0.55</td>\n",
       "      <td>2</td>\n",
       "    </tr>\n",
       "  </tbody>\n",
       "</table>\n",
       "</div>"
      ],
      "text/plain": [
       "             edad  equivalencia  CH04\n",
       "0  Menor de 1 año          0.35     2\n",
       "1            1año          0.37     2\n",
       "2          2 años          0.46     2\n",
       "3          3 años          0.51     2\n",
       "4          4 años          0.55     2"
      ]
     },
     "execution_count": 54,
     "metadata": {},
     "output_type": "execute_result"
    }
   ],
   "source": [
    "# La idea es crear dos bases de datos distintas para luego hacer el merge con la EPH. \n",
    "# Estas dos bases de van a diferenciar en una variable \"sexo\" que tomará, para todas las observaciones, \n",
    "# un valor de 1 o 2. \n",
    "\n",
    "# En primer lugar, procederemos a armar la primera fila de los dos data frame\n",
    "# Esta fila tendrá los valores referidos a la edad, es por esto que es una fila en común \n",
    "# entre ambas bases de datos. \n",
    "\n",
    "# Nos quedamos con el primer elemento de \"equivalencia_filas\" (edad):\n",
    "\n",
    "fila0=equivalencia_filas[0]\n",
    "\n",
    "# Nos quedamos solo con los valores que no son missings:\n",
    "\n",
    "edad = [x for x in fila0 if pd.isnull(x) == False]\n",
    "\n",
    "# Armamos la base de datos para las mujeres\n",
    "\n",
    "# Nos quedamos solo con los elementos de la fila que nos van a servir (hay algunos \n",
    "# datos de edad que no son missing pero no son referidos a la edad sino que son notas)\n",
    "\n",
    "edad=edad[1:24]\n",
    "\n",
    "print(edad)\n",
    "\n",
    "# Nos quedamos con la fila referida a la equivalencia:\n",
    "\n",
    "fila1=equivalencia_filas[1]\n",
    "\n",
    "mujeres_eq = [x for x in fila1 if pd.isnull(x) == False]\n",
    "\n",
    "# Nos quedamos solo con los elementos de la fila que nos van a servir \n",
    "\n",
    "mujeres_eq=mujeres_eq[1:24]\n",
    "\n",
    "print(mujeres_eq)\n",
    "\n",
    "# Creamos una fila que tome valor igual a 2, esto será para luego poder hacer el merge \n",
    "# con la base de datos de la EPH\n",
    "\n",
    "sexo=[2] * 24\n",
    "\n",
    "print(sexo)\n",
    "\n",
    "# Juntamos las filas y las transformamos en un data frame. \n",
    "\n",
    "mujeres = list(zip(edad, mujeres_eq, sexo))\n",
    "\n",
    "# Cambiamos los nombres de las variables para que podamos hacer el merge con la EPH sin ninguna complicación\n",
    "\n",
    "df_mujeres = pd.DataFrame(mujeres,columns=['edad','equivalencia','CH04'])\n",
    "\n",
    "# Observamos el resultado\n",
    "\n",
    "df_mujeres.head(5)\n"
   ]
  },
  {
   "cell_type": "code",
   "execution_count": 55,
   "id": "c806da5e",
   "metadata": {},
   "outputs": [
    {
     "name": "stdout",
     "output_type": "stream",
     "text": [
      "[0.35, 0.37, 0.46, 0.51, 0.55, 0.6, 0.64, 0.66, 0.68, 0.69, 0.7, 0.72, 0.74, 0.76, 0.76, 0.77, 0.77, 0.77, 0.76, 0.77, 0.76, 0.67, 0.63]\n",
      "[1, 1, 1, 1, 1, 1, 1, 1, 1, 1, 1, 1, 1, 1, 1, 1, 1, 1, 1, 1, 1, 1, 1, 1]\n"
     ]
    },
    {
     "data": {
      "text/html": [
       "<div>\n",
       "<style scoped>\n",
       "    .dataframe tbody tr th:only-of-type {\n",
       "        vertical-align: middle;\n",
       "    }\n",
       "\n",
       "    .dataframe tbody tr th {\n",
       "        vertical-align: top;\n",
       "    }\n",
       "\n",
       "    .dataframe thead th {\n",
       "        text-align: right;\n",
       "    }\n",
       "</style>\n",
       "<table border=\"1\" class=\"dataframe\">\n",
       "  <thead>\n",
       "    <tr style=\"text-align: right;\">\n",
       "      <th></th>\n",
       "      <th>edad</th>\n",
       "      <th>equivalencia</th>\n",
       "      <th>CH04</th>\n",
       "    </tr>\n",
       "  </thead>\n",
       "  <tbody>\n",
       "    <tr>\n",
       "      <th>0</th>\n",
       "      <td>Menor de 1 año</td>\n",
       "      <td>0.35</td>\n",
       "      <td>1</td>\n",
       "    </tr>\n",
       "    <tr>\n",
       "      <th>1</th>\n",
       "      <td>1año</td>\n",
       "      <td>0.37</td>\n",
       "      <td>1</td>\n",
       "    </tr>\n",
       "    <tr>\n",
       "      <th>2</th>\n",
       "      <td>2 años</td>\n",
       "      <td>0.46</td>\n",
       "      <td>1</td>\n",
       "    </tr>\n",
       "    <tr>\n",
       "      <th>3</th>\n",
       "      <td>3 años</td>\n",
       "      <td>0.51</td>\n",
       "      <td>1</td>\n",
       "    </tr>\n",
       "    <tr>\n",
       "      <th>4</th>\n",
       "      <td>4 años</td>\n",
       "      <td>0.55</td>\n",
       "      <td>1</td>\n",
       "    </tr>\n",
       "  </tbody>\n",
       "</table>\n",
       "</div>"
      ],
      "text/plain": [
       "             edad  equivalencia  CH04\n",
       "0  Menor de 1 año          0.35     1\n",
       "1            1año          0.37     1\n",
       "2          2 años          0.46     1\n",
       "3          3 años          0.51     1\n",
       "4          4 años          0.55     1"
      ]
     },
     "execution_count": 55,
     "metadata": {},
     "output_type": "execute_result"
    }
   ],
   "source": [
    "# Armamos la base de datos para los hombres \n",
    "\n",
    "# Nos quedamos solo con los elementos de la fila que nos van a servir \n",
    "\n",
    "fila1_hombres=equivalencia_filas[2]\n",
    "\n",
    "# Eliminamos los missing values\n",
    "\n",
    "# esto sería: hombres_eq = [x for x in fila1_hombres (cambia esto) if pd.isnull(x) == False]\n",
    "\n",
    "hombres_eq = [x for x in fila1_hombres if pd.isnull(x) == False]\n",
    "\n",
    "# Nos quedamos solo con los elementos de la fila que nos van a servir \n",
    "\n",
    "hombres_eq = hombres_eq[1:24]\n",
    "\n",
    "print(hombres_eq)\n",
    "\n",
    "# Creamos una fila que tome valor igual a 1, esto será para luego poder hacer el merge \n",
    "# con la base de datos de la EPH\n",
    "\n",
    "sexo=[1] * 24\n",
    "\n",
    "print(sexo)\n",
    "\n",
    "# Juntamos las filas y las transformamos en un data frame. \n",
    "\n",
    "hombres = list(zip(edad, hombres_eq, sexo))\n",
    "\n",
    "# Cambiamos los nombres de las variables para que podamos hacer el merge con la EPH sin ninguna complicación\n",
    "\n",
    "df_hombres = pd.DataFrame(hombres,columns=['edad','equivalencia','CH04'])\n",
    "\n",
    "# Observamos el resultado\n",
    "\n",
    "df_hombres.head(5)\n"
   ]
  },
  {
   "cell_type": "code",
   "execution_count": 70,
   "id": "0c2a5357",
   "metadata": {},
   "outputs": [],
   "source": [
    "# F.\n",
    "# Creamos una función que nos \n",
    "def combinacion_edad(x):\n",
    "   \n",
    "    #Esta función nos devuelve la categoría en la que entra cada individuo\n",
    "    #según la edad que tenga, con categoría nos ayudará a hacer el match \n",
    "    #de la base de datos de la EPH con la tabla de equivalencias\n",
    "    #Input: \n",
    "    #  edad (int): la edad a la que se desea transformar en esa misma edad solo que \"con palabras\"\n",
    "    # Output:\n",
    "    #  str: edad en palabras\n",
    "\n",
    "    if x < 1:\n",
    "        return 'Menor de 1 año'\n",
    "    elif x == 1:\n",
    "        return '1 año'\n",
    "    elif x ==2: \n",
    "        return '2 años'\n",
    "    elif x ==3: \n",
    "        return '3 años'\n",
    "    elif x ==4: \n",
    "        return '4 años'\n",
    "    elif x ==5: \n",
    "        return '5 años'\n",
    "    elif x ==6: \n",
    "        return '6 años'\n",
    "    elif x ==7: \n",
    "        return '7 años'\n",
    "    elif x ==8: \n",
    "        return '8 años'\n",
    "    elif x ==9: \n",
    "        return '9 años'\n",
    "    elif x ==10: \n",
    "        return '10 años'\n",
    "    elif x ==11: \n",
    "        return '11 años'\n",
    "    elif x ==12: \n",
    "        return '12 años'\n",
    "    elif x ==13: \n",
    "        return '13 años'\n",
    "    elif x ==14: \n",
    "        return '14 años'\n",
    "    elif x ==15: \n",
    "        return '15 años'\n",
    "    elif x ==16: \n",
    "        return '16 años'\n",
    "    elif x ==17: \n",
    "        return '17 años'      \n",
    "    elif x >= 18 and x <= 29:\n",
    "        return '18 a 29 años'\n",
    "    elif x >= 30 and x <= 45:\n",
    "        return '30 a 45 años'  \n",
    "    elif x >= 46 and x <= 60:\n",
    "        return '46 a 60 años'    \n",
    "    elif x >= 61 and x <= 75:\n",
    "        return '61 a 75 años'\n",
    "    else:\n",
    "        return 'mas de 75 años'\n",
    "\n"
   ]
  },
  {
   "cell_type": "code",
   "execution_count": 71,
   "id": "0b400a05",
   "metadata": {},
   "outputs": [
    {
     "name": "stderr",
     "output_type": "stream",
     "text": [
      "<ipython-input-71-0ca98e696ed0>:2: SettingWithCopyWarning: \n",
      "A value is trying to be set on a copy of a slice from a DataFrame.\n",
      "Try using .loc[row_indexer,col_indexer] = value instead\n",
      "\n",
      "See the caveats in the documentation: https://pandas.pydata.org/pandas-docs/stable/user_guide/indexing.html#returning-a-view-versus-a-copy\n",
      "  eph_2021_c['edad']=[combinacion_edad(x) for x in eph_2021_c['CH06']]\n"
     ]
    },
    {
     "data": {
      "text/html": [
       "<div>\n",
       "<style scoped>\n",
       "    .dataframe tbody tr th:only-of-type {\n",
       "        vertical-align: middle;\n",
       "    }\n",
       "\n",
       "    .dataframe tbody tr th {\n",
       "        vertical-align: top;\n",
       "    }\n",
       "\n",
       "    .dataframe thead th {\n",
       "        text-align: right;\n",
       "    }\n",
       "</style>\n",
       "<table border=\"1\" class=\"dataframe\">\n",
       "  <thead>\n",
       "    <tr style=\"text-align: right;\">\n",
       "      <th></th>\n",
       "      <th>CODUSU</th>\n",
       "      <th>ANO4</th>\n",
       "      <th>TRIMESTRE</th>\n",
       "      <th>NRO_HOGAR</th>\n",
       "      <th>COMPONENTE</th>\n",
       "      <th>H15</th>\n",
       "      <th>REGION</th>\n",
       "      <th>MAS_500</th>\n",
       "      <th>AGLOMERADO</th>\n",
       "      <th>PONDERA</th>\n",
       "      <th>...</th>\n",
       "      <th>ADECIFR</th>\n",
       "      <th>IPCF</th>\n",
       "      <th>DECCFR</th>\n",
       "      <th>IDECCFR</th>\n",
       "      <th>RDECCFR</th>\n",
       "      <th>GDECCFR</th>\n",
       "      <th>PDECCFR</th>\n",
       "      <th>ADECCFR</th>\n",
       "      <th>PONDIH</th>\n",
       "      <th>edad</th>\n",
       "    </tr>\n",
       "  </thead>\n",
       "  <tbody>\n",
       "    <tr>\n",
       "      <th>36799</th>\n",
       "      <td>TQRMNOPPRHKMLNCDEIIAD00655703</td>\n",
       "      <td>2021</td>\n",
       "      <td>1</td>\n",
       "      <td>1</td>\n",
       "      <td>1</td>\n",
       "      <td>1</td>\n",
       "      <td>1</td>\n",
       "      <td>S</td>\n",
       "      <td>32</td>\n",
       "      <td>1394</td>\n",
       "      <td>...</td>\n",
       "      <td>10.0</td>\n",
       "      <td>127500.0</td>\n",
       "      <td>10.0</td>\n",
       "      <td>0.0</td>\n",
       "      <td>10.0</td>\n",
       "      <td>10.0</td>\n",
       "      <td>0.0</td>\n",
       "      <td>10.0</td>\n",
       "      <td>2494</td>\n",
       "      <td>18 a 29 años</td>\n",
       "    </tr>\n",
       "    <tr>\n",
       "      <th>36800</th>\n",
       "      <td>TQRMNOPPRHKMLNCDEIIAD00655703</td>\n",
       "      <td>2021</td>\n",
       "      <td>1</td>\n",
       "      <td>1</td>\n",
       "      <td>2</td>\n",
       "      <td>1</td>\n",
       "      <td>1</td>\n",
       "      <td>S</td>\n",
       "      <td>32</td>\n",
       "      <td>1394</td>\n",
       "      <td>...</td>\n",
       "      <td>10.0</td>\n",
       "      <td>127500.0</td>\n",
       "      <td>10.0</td>\n",
       "      <td>0.0</td>\n",
       "      <td>10.0</td>\n",
       "      <td>10.0</td>\n",
       "      <td>0.0</td>\n",
       "      <td>10.0</td>\n",
       "      <td>2494</td>\n",
       "      <td>18 a 29 años</td>\n",
       "    </tr>\n",
       "    <tr>\n",
       "      <th>36801</th>\n",
       "      <td>TQRMNOPPWHKMNUCDEIIAD00655837</td>\n",
       "      <td>2021</td>\n",
       "      <td>1</td>\n",
       "      <td>1</td>\n",
       "      <td>1</td>\n",
       "      <td>1</td>\n",
       "      <td>1</td>\n",
       "      <td>S</td>\n",
       "      <td>32</td>\n",
       "      <td>3090</td>\n",
       "      <td>...</td>\n",
       "      <td>12.0</td>\n",
       "      <td>0.0</td>\n",
       "      <td>12.0</td>\n",
       "      <td>0.0</td>\n",
       "      <td>12.0</td>\n",
       "      <td>12.0</td>\n",
       "      <td>0.0</td>\n",
       "      <td>12.0</td>\n",
       "      <td>0</td>\n",
       "      <td>46 a 60 años</td>\n",
       "    </tr>\n",
       "    <tr>\n",
       "      <th>36802</th>\n",
       "      <td>TQRMNOPPWHKMNUCDEIIAD00655837</td>\n",
       "      <td>2021</td>\n",
       "      <td>1</td>\n",
       "      <td>1</td>\n",
       "      <td>2</td>\n",
       "      <td>1</td>\n",
       "      <td>1</td>\n",
       "      <td>S</td>\n",
       "      <td>32</td>\n",
       "      <td>3090</td>\n",
       "      <td>...</td>\n",
       "      <td>12.0</td>\n",
       "      <td>0.0</td>\n",
       "      <td>12.0</td>\n",
       "      <td>0.0</td>\n",
       "      <td>12.0</td>\n",
       "      <td>12.0</td>\n",
       "      <td>0.0</td>\n",
       "      <td>12.0</td>\n",
       "      <td>0</td>\n",
       "      <td>46 a 60 años</td>\n",
       "    </tr>\n",
       "    <tr>\n",
       "      <th>36803</th>\n",
       "      <td>TQRMNOPPWHKMNUCDEIIAD00655837</td>\n",
       "      <td>2021</td>\n",
       "      <td>1</td>\n",
       "      <td>1</td>\n",
       "      <td>3</td>\n",
       "      <td>1</td>\n",
       "      <td>1</td>\n",
       "      <td>S</td>\n",
       "      <td>32</td>\n",
       "      <td>3090</td>\n",
       "      <td>...</td>\n",
       "      <td>12.0</td>\n",
       "      <td>0.0</td>\n",
       "      <td>12.0</td>\n",
       "      <td>0.0</td>\n",
       "      <td>12.0</td>\n",
       "      <td>12.0</td>\n",
       "      <td>0.0</td>\n",
       "      <td>12.0</td>\n",
       "      <td>0</td>\n",
       "      <td>18 a 29 años</td>\n",
       "    </tr>\n",
       "    <tr>\n",
       "      <th>...</th>\n",
       "      <td>...</td>\n",
       "      <td>...</td>\n",
       "      <td>...</td>\n",
       "      <td>...</td>\n",
       "      <td>...</td>\n",
       "      <td>...</td>\n",
       "      <td>...</td>\n",
       "      <td>...</td>\n",
       "      <td>...</td>\n",
       "      <td>...</td>\n",
       "      <td>...</td>\n",
       "      <td>...</td>\n",
       "      <td>...</td>\n",
       "      <td>...</td>\n",
       "      <td>...</td>\n",
       "      <td>...</td>\n",
       "      <td>...</td>\n",
       "      <td>...</td>\n",
       "      <td>...</td>\n",
       "      <td>...</td>\n",
       "      <td>...</td>\n",
       "    </tr>\n",
       "    <tr>\n",
       "      <th>37298</th>\n",
       "      <td>TQRMNORQSHLKKUCDEIIAD00650547</td>\n",
       "      <td>2021</td>\n",
       "      <td>1</td>\n",
       "      <td>1</td>\n",
       "      <td>1</td>\n",
       "      <td>1</td>\n",
       "      <td>1</td>\n",
       "      <td>S</td>\n",
       "      <td>32</td>\n",
       "      <td>846</td>\n",
       "      <td>...</td>\n",
       "      <td>3.0</td>\n",
       "      <td>50000.0</td>\n",
       "      <td>9.0</td>\n",
       "      <td>0.0</td>\n",
       "      <td>9.0</td>\n",
       "      <td>9.0</td>\n",
       "      <td>0.0</td>\n",
       "      <td>7.0</td>\n",
       "      <td>1086</td>\n",
       "      <td>30 a 45 años</td>\n",
       "    </tr>\n",
       "    <tr>\n",
       "      <th>37299</th>\n",
       "      <td>TQRMNORQTHJKMSCDEIIAD00700215</td>\n",
       "      <td>2021</td>\n",
       "      <td>1</td>\n",
       "      <td>1</td>\n",
       "      <td>2</td>\n",
       "      <td>1</td>\n",
       "      <td>1</td>\n",
       "      <td>S</td>\n",
       "      <td>32</td>\n",
       "      <td>2449</td>\n",
       "      <td>...</td>\n",
       "      <td>12.0</td>\n",
       "      <td>0.0</td>\n",
       "      <td>12.0</td>\n",
       "      <td>0.0</td>\n",
       "      <td>12.0</td>\n",
       "      <td>12.0</td>\n",
       "      <td>0.0</td>\n",
       "      <td>12.0</td>\n",
       "      <td>0</td>\n",
       "      <td>30 a 45 años</td>\n",
       "    </tr>\n",
       "    <tr>\n",
       "      <th>37300</th>\n",
       "      <td>TQRMNORQTHJKMSCDEIIAD00700215</td>\n",
       "      <td>2021</td>\n",
       "      <td>1</td>\n",
       "      <td>1</td>\n",
       "      <td>3</td>\n",
       "      <td>1</td>\n",
       "      <td>1</td>\n",
       "      <td>S</td>\n",
       "      <td>32</td>\n",
       "      <td>2449</td>\n",
       "      <td>...</td>\n",
       "      <td>12.0</td>\n",
       "      <td>0.0</td>\n",
       "      <td>12.0</td>\n",
       "      <td>0.0</td>\n",
       "      <td>12.0</td>\n",
       "      <td>12.0</td>\n",
       "      <td>0.0</td>\n",
       "      <td>12.0</td>\n",
       "      <td>0</td>\n",
       "      <td>30 a 45 años</td>\n",
       "    </tr>\n",
       "    <tr>\n",
       "      <th>37301</th>\n",
       "      <td>TQRMNORQTHJKMSCDEIIAD00700215</td>\n",
       "      <td>2021</td>\n",
       "      <td>1</td>\n",
       "      <td>1</td>\n",
       "      <td>1</td>\n",
       "      <td>1</td>\n",
       "      <td>1</td>\n",
       "      <td>S</td>\n",
       "      <td>32</td>\n",
       "      <td>2449</td>\n",
       "      <td>...</td>\n",
       "      <td>12.0</td>\n",
       "      <td>0.0</td>\n",
       "      <td>12.0</td>\n",
       "      <td>0.0</td>\n",
       "      <td>12.0</td>\n",
       "      <td>12.0</td>\n",
       "      <td>0.0</td>\n",
       "      <td>12.0</td>\n",
       "      <td>0</td>\n",
       "      <td>61 a 75 años</td>\n",
       "    </tr>\n",
       "    <tr>\n",
       "      <th>37302</th>\n",
       "      <td>TQRMNORQTHJKMSCDEIIAD00700215</td>\n",
       "      <td>2021</td>\n",
       "      <td>1</td>\n",
       "      <td>1</td>\n",
       "      <td>4</td>\n",
       "      <td>1</td>\n",
       "      <td>1</td>\n",
       "      <td>S</td>\n",
       "      <td>32</td>\n",
       "      <td>2449</td>\n",
       "      <td>...</td>\n",
       "      <td>12.0</td>\n",
       "      <td>0.0</td>\n",
       "      <td>12.0</td>\n",
       "      <td>0.0</td>\n",
       "      <td>12.0</td>\n",
       "      <td>12.0</td>\n",
       "      <td>0.0</td>\n",
       "      <td>12.0</td>\n",
       "      <td>0</td>\n",
       "      <td>10 años</td>\n",
       "    </tr>\n",
       "  </tbody>\n",
       "</table>\n",
       "<p>500 rows × 178 columns</p>\n",
       "</div>"
      ],
      "text/plain": [
       "                              CODUSU  ANO4  TRIMESTRE  NRO_HOGAR  COMPONENTE  \\\n",
       "36799  TQRMNOPPRHKMLNCDEIIAD00655703  2021          1          1           1   \n",
       "36800  TQRMNOPPRHKMLNCDEIIAD00655703  2021          1          1           2   \n",
       "36801  TQRMNOPPWHKMNUCDEIIAD00655837  2021          1          1           1   \n",
       "36802  TQRMNOPPWHKMNUCDEIIAD00655837  2021          1          1           2   \n",
       "36803  TQRMNOPPWHKMNUCDEIIAD00655837  2021          1          1           3   \n",
       "...                              ...   ...        ...        ...         ...   \n",
       "37298  TQRMNORQSHLKKUCDEIIAD00650547  2021          1          1           1   \n",
       "37299  TQRMNORQTHJKMSCDEIIAD00700215  2021          1          1           2   \n",
       "37300  TQRMNORQTHJKMSCDEIIAD00700215  2021          1          1           3   \n",
       "37301  TQRMNORQTHJKMSCDEIIAD00700215  2021          1          1           1   \n",
       "37302  TQRMNORQTHJKMSCDEIIAD00700215  2021          1          1           4   \n",
       "\n",
       "       H15  REGION MAS_500  AGLOMERADO  PONDERA  ...  ADECIFR      IPCF  \\\n",
       "36799    1       1       S          32     1394  ...     10.0  127500.0   \n",
       "36800    1       1       S          32     1394  ...     10.0  127500.0   \n",
       "36801    1       1       S          32     3090  ...     12.0       0.0   \n",
       "36802    1       1       S          32     3090  ...     12.0       0.0   \n",
       "36803    1       1       S          32     3090  ...     12.0       0.0   \n",
       "...    ...     ...     ...         ...      ...  ...      ...       ...   \n",
       "37298    1       1       S          32      846  ...      3.0   50000.0   \n",
       "37299    1       1       S          32     2449  ...     12.0       0.0   \n",
       "37300    1       1       S          32     2449  ...     12.0       0.0   \n",
       "37301    1       1       S          32     2449  ...     12.0       0.0   \n",
       "37302    1       1       S          32     2449  ...     12.0       0.0   \n",
       "\n",
       "      DECCFR  IDECCFR  RDECCFR  GDECCFR  PDECCFR  ADECCFR  PONDIH  \\\n",
       "36799   10.0      0.0     10.0     10.0      0.0     10.0    2494   \n",
       "36800   10.0      0.0     10.0     10.0      0.0     10.0    2494   \n",
       "36801   12.0      0.0     12.0     12.0      0.0     12.0       0   \n",
       "36802   12.0      0.0     12.0     12.0      0.0     12.0       0   \n",
       "36803   12.0      0.0     12.0     12.0      0.0     12.0       0   \n",
       "...      ...      ...      ...      ...      ...      ...     ...   \n",
       "37298    9.0      0.0      9.0      9.0      0.0      7.0    1086   \n",
       "37299   12.0      0.0     12.0     12.0      0.0     12.0       0   \n",
       "37300   12.0      0.0     12.0     12.0      0.0     12.0       0   \n",
       "37301   12.0      0.0     12.0     12.0      0.0     12.0       0   \n",
       "37302   12.0      0.0     12.0     12.0      0.0     12.0       0   \n",
       "\n",
       "               edad  \n",
       "36799  18 a 29 años  \n",
       "36800  18 a 29 años  \n",
       "36801  46 a 60 años  \n",
       "36802  46 a 60 años  \n",
       "36803  18 a 29 años  \n",
       "...             ...  \n",
       "37298  30 a 45 años  \n",
       "37299  30 a 45 años  \n",
       "37300  30 a 45 años  \n",
       "37301  61 a 75 años  \n",
       "37302       10 años  \n",
       "\n",
       "[500 rows x 178 columns]"
      ]
     },
     "execution_count": 71,
     "metadata": {},
     "output_type": "execute_result"
    }
   ],
   "source": [
    "# Agregamos una nueva columna con la edad, en donde aplicamos la función \n",
    "eph_2021_c['edad']=[combinacion_edad(x) for x in eph_2021_c['CH06']]\n",
    "\n",
    "eph_2021_c.head(500)"
   ]
  },
  {
   "cell_type": "code",
   "execution_count": 72,
   "id": "acebdbb2",
   "metadata": {},
   "outputs": [],
   "source": [
    "# Hacemos el merge de la EPH con la base de datos de equivalencia para mujeres\n",
    "\n",
    "result = pd.merge(eph_2021_c, df_hombres, how=\"left\", on=[\"edad\",\"CH04\"])\n",
    "\n"
   ]
  },
  {
   "cell_type": "code",
   "execution_count": 73,
   "id": "6eed02b7",
   "metadata": {},
   "outputs": [],
   "source": [
    "# Hacemos el merge de la EPH con la base de datos de equivalencia para hombres\n",
    "\n",
    "result_eph = pd.merge(result, df_mujeres, how=\"left\", on=[\"CH04\", \"edad\"])"
   ]
  },
  {
   "cell_type": "code",
   "execution_count": 74,
   "id": "86549e23",
   "metadata": {
    "scrolled": true
   },
   "outputs": [],
   "source": [
    "# Debido a que queremos tener los datos de equivalencia en una sola columna juntamos los datos de \"equivalencia_x\" y \"equivalencia_y\"\n",
    "# en una sola columna. Notar que si hay valores missing en ambas columnas esto se mantiene en la nueva columna llamada \"Equivalencia\"\n",
    "\n",
    "result_eph[\"Equivalencia\"]=result_eph[\"equivalencia_x\"].combine_first(result_eph[\"equivalencia_y\"])"
   ]
  },
  {
   "cell_type": "code",
   "execution_count": 75,
   "id": "d66b39f1",
   "metadata": {},
   "outputs": [
    {
     "data": {
      "text/html": [
       "<div>\n",
       "<style scoped>\n",
       "    .dataframe tbody tr th:only-of-type {\n",
       "        vertical-align: middle;\n",
       "    }\n",
       "\n",
       "    .dataframe tbody tr th {\n",
       "        vertical-align: top;\n",
       "    }\n",
       "\n",
       "    .dataframe thead th {\n",
       "        text-align: right;\n",
       "    }\n",
       "</style>\n",
       "<table border=\"1\" class=\"dataframe\">\n",
       "  <thead>\n",
       "    <tr style=\"text-align: right;\">\n",
       "      <th></th>\n",
       "      <th>CODUSU</th>\n",
       "      <th>ANO4</th>\n",
       "      <th>TRIMESTRE</th>\n",
       "      <th>NRO_HOGAR</th>\n",
       "      <th>COMPONENTE</th>\n",
       "      <th>H15</th>\n",
       "      <th>REGION</th>\n",
       "      <th>MAS_500</th>\n",
       "      <th>AGLOMERADO</th>\n",
       "      <th>PONDERA</th>\n",
       "      <th>...</th>\n",
       "      <th>IDECCFR</th>\n",
       "      <th>RDECCFR</th>\n",
       "      <th>GDECCFR</th>\n",
       "      <th>PDECCFR</th>\n",
       "      <th>ADECCFR</th>\n",
       "      <th>PONDIH</th>\n",
       "      <th>edad</th>\n",
       "      <th>equivalencia_x</th>\n",
       "      <th>equivalencia_y</th>\n",
       "      <th>Equivalencia</th>\n",
       "    </tr>\n",
       "  </thead>\n",
       "  <tbody>\n",
       "    <tr>\n",
       "      <th>0</th>\n",
       "      <td>TQRMNOPPRHKMLNCDEIIAD00655703</td>\n",
       "      <td>2021</td>\n",
       "      <td>1</td>\n",
       "      <td>1</td>\n",
       "      <td>1</td>\n",
       "      <td>1</td>\n",
       "      <td>1</td>\n",
       "      <td>S</td>\n",
       "      <td>32</td>\n",
       "      <td>1394</td>\n",
       "      <td>...</td>\n",
       "      <td>0.0</td>\n",
       "      <td>10.0</td>\n",
       "      <td>10.0</td>\n",
       "      <td>0.0</td>\n",
       "      <td>10.0</td>\n",
       "      <td>2494</td>\n",
       "      <td>18 a 29 años</td>\n",
       "      <td>0.76</td>\n",
       "      <td>NaN</td>\n",
       "      <td>0.76</td>\n",
       "    </tr>\n",
       "    <tr>\n",
       "      <th>1</th>\n",
       "      <td>TQRMNOPPRHKMLNCDEIIAD00655703</td>\n",
       "      <td>2021</td>\n",
       "      <td>1</td>\n",
       "      <td>1</td>\n",
       "      <td>2</td>\n",
       "      <td>1</td>\n",
       "      <td>1</td>\n",
       "      <td>S</td>\n",
       "      <td>32</td>\n",
       "      <td>1394</td>\n",
       "      <td>...</td>\n",
       "      <td>0.0</td>\n",
       "      <td>10.0</td>\n",
       "      <td>10.0</td>\n",
       "      <td>0.0</td>\n",
       "      <td>10.0</td>\n",
       "      <td>2494</td>\n",
       "      <td>18 a 29 años</td>\n",
       "      <td>NaN</td>\n",
       "      <td>0.76</td>\n",
       "      <td>0.76</td>\n",
       "    </tr>\n",
       "    <tr>\n",
       "      <th>2</th>\n",
       "      <td>TQRMNOPPWHKMNUCDEIIAD00655837</td>\n",
       "      <td>2021</td>\n",
       "      <td>1</td>\n",
       "      <td>1</td>\n",
       "      <td>1</td>\n",
       "      <td>1</td>\n",
       "      <td>1</td>\n",
       "      <td>S</td>\n",
       "      <td>32</td>\n",
       "      <td>3090</td>\n",
       "      <td>...</td>\n",
       "      <td>0.0</td>\n",
       "      <td>12.0</td>\n",
       "      <td>12.0</td>\n",
       "      <td>0.0</td>\n",
       "      <td>12.0</td>\n",
       "      <td>0</td>\n",
       "      <td>46 a 60 años</td>\n",
       "      <td>0.76</td>\n",
       "      <td>NaN</td>\n",
       "      <td>0.76</td>\n",
       "    </tr>\n",
       "    <tr>\n",
       "      <th>3</th>\n",
       "      <td>TQRMNOPPWHKMNUCDEIIAD00655837</td>\n",
       "      <td>2021</td>\n",
       "      <td>1</td>\n",
       "      <td>1</td>\n",
       "      <td>2</td>\n",
       "      <td>1</td>\n",
       "      <td>1</td>\n",
       "      <td>S</td>\n",
       "      <td>32</td>\n",
       "      <td>3090</td>\n",
       "      <td>...</td>\n",
       "      <td>0.0</td>\n",
       "      <td>12.0</td>\n",
       "      <td>12.0</td>\n",
       "      <td>0.0</td>\n",
       "      <td>12.0</td>\n",
       "      <td>0</td>\n",
       "      <td>46 a 60 años</td>\n",
       "      <td>NaN</td>\n",
       "      <td>0.76</td>\n",
       "      <td>0.76</td>\n",
       "    </tr>\n",
       "    <tr>\n",
       "      <th>4</th>\n",
       "      <td>TQRMNOPPWHKMNUCDEIIAD00655837</td>\n",
       "      <td>2021</td>\n",
       "      <td>1</td>\n",
       "      <td>1</td>\n",
       "      <td>3</td>\n",
       "      <td>1</td>\n",
       "      <td>1</td>\n",
       "      <td>S</td>\n",
       "      <td>32</td>\n",
       "      <td>3090</td>\n",
       "      <td>...</td>\n",
       "      <td>0.0</td>\n",
       "      <td>12.0</td>\n",
       "      <td>12.0</td>\n",
       "      <td>0.0</td>\n",
       "      <td>12.0</td>\n",
       "      <td>0</td>\n",
       "      <td>18 a 29 años</td>\n",
       "      <td>NaN</td>\n",
       "      <td>0.76</td>\n",
       "      <td>0.76</td>\n",
       "    </tr>\n",
       "  </tbody>\n",
       "</table>\n",
       "<p>5 rows × 181 columns</p>\n",
       "</div>"
      ],
      "text/plain": [
       "                          CODUSU  ANO4  TRIMESTRE  NRO_HOGAR  COMPONENTE  H15  \\\n",
       "0  TQRMNOPPRHKMLNCDEIIAD00655703  2021          1          1           1    1   \n",
       "1  TQRMNOPPRHKMLNCDEIIAD00655703  2021          1          1           2    1   \n",
       "2  TQRMNOPPWHKMNUCDEIIAD00655837  2021          1          1           1    1   \n",
       "3  TQRMNOPPWHKMNUCDEIIAD00655837  2021          1          1           2    1   \n",
       "4  TQRMNOPPWHKMNUCDEIIAD00655837  2021          1          1           3    1   \n",
       "\n",
       "   REGION MAS_500  AGLOMERADO  PONDERA  ...  IDECCFR  RDECCFR GDECCFR  \\\n",
       "0       1       S          32     1394  ...      0.0     10.0    10.0   \n",
       "1       1       S          32     1394  ...      0.0     10.0    10.0   \n",
       "2       1       S          32     3090  ...      0.0     12.0    12.0   \n",
       "3       1       S          32     3090  ...      0.0     12.0    12.0   \n",
       "4       1       S          32     3090  ...      0.0     12.0    12.0   \n",
       "\n",
       "   PDECCFR  ADECCFR  PONDIH          edad  equivalencia_x  equivalencia_y  \\\n",
       "0      0.0     10.0    2494  18 a 29 años            0.76             NaN   \n",
       "1      0.0     10.0    2494  18 a 29 años             NaN            0.76   \n",
       "2      0.0     12.0       0  46 a 60 años            0.76             NaN   \n",
       "3      0.0     12.0       0  46 a 60 años             NaN            0.76   \n",
       "4      0.0     12.0       0  18 a 29 años             NaN            0.76   \n",
       "\n",
       "   Equivalencia  \n",
       "0          0.76  \n",
       "1          0.76  \n",
       "2          0.76  \n",
       "3          0.76  \n",
       "4          0.76  \n",
       "\n",
       "[5 rows x 181 columns]"
      ]
     },
     "execution_count": 75,
     "metadata": {},
     "output_type": "execute_result"
    }
   ],
   "source": [
    "# Observamos los resultados \n",
    "\n",
    "result_eph.head()"
   ]
  },
  {
   "cell_type": "code",
   "execution_count": 76,
   "id": "3627a7f7",
   "metadata": {},
   "outputs": [],
   "source": [
    "\n",
    "# El archivo de consideraciones metodológicas del INDEC sobre la EPH nos dice que para agrupar por edades necesitamos usar \n",
    "# CODUSO y NRO_HOGAR. \n",
    "\n",
    "# Armamos una nueva base de datos que contenga las variables CODUSU, NRO_HOGAR y Equivalencia y las agrupamos por CODUSO y NRO_HOGAR\n",
    "eph_equiv = result_eph[['CODUSU', 'NRO_HOGAR', 'Equivalencia']].groupby(['CODUSU', 'NRO_HOGAR']).sum().reset_index()\n",
    "# Le damos el nombre a las columnas del data frame anterior\n",
    "eph_equiv.rename(columns = {'Equivalencia': 'ad_equiv_hogar'}, inplace = True) \n",
    "\n",
    "# Unimos las base anterior con la base completa (result_eph), de esta forma, cada individuo tiene el valor correspondiente \n",
    "# de eph equiv por familia\n",
    "eph_final = pd.merge(result_eph, eph_equiv, how='left', on=['CODUSU', 'NRO_HOGAR'])"
   ]
  },
  {
   "cell_type": "markdown",
   "id": "16e1412a",
   "metadata": {},
   "source": [
    "##### 3"
   ]
  },
  {
   "cell_type": "code",
   "execution_count": 77,
   "id": "5f0b2e0b",
   "metadata": {},
   "outputs": [
    {
     "data": {
      "text/plain": [
       "1549"
      ]
     },
     "execution_count": 77,
     "metadata": {},
     "output_type": "execute_result"
    }
   ],
   "source": [
    "#Uno de los grandes problemas de la EPH es la creciente cantidad de hogares que\n",
    "# no reportan sus ingresos (ver por ejemplo el siguiente informe). ¿Cuántas perso-\n",
    "# nas no respondieron cuál es su ingreso total familiar (ITF)? Guarde como una\n",
    "# base distinta las observaciones donde respondieron la pregunta sobre su ITF bajo\n",
    "# el nombre respondieron. Las observaciones con ITF=0 guárdelas bajo el nombre\n",
    "# norespondieron.\n",
    "\n",
    "# Las personas que no respondieron cuál es su ingreso total familiar: \n",
    "\n",
    "(eph_final['ITF']==0).sum() # 1549\n",
    "\n"
   ]
  },
  {
   "cell_type": "code",
   "execution_count": 78,
   "id": "605213bc",
   "metadata": {},
   "outputs": [
    {
     "data": {
      "text/plain": [
       "2500"
      ]
     },
     "execution_count": 78,
     "metadata": {},
     "output_type": "execute_result"
    }
   ],
   "source": [
    "(eph_final['ITF']>0).sum() # 2500\n"
   ]
  },
  {
   "cell_type": "code",
   "execution_count": 79,
   "id": "fcc741dc",
   "metadata": {},
   "outputs": [],
   "source": [
    "\n",
    "# Guardamos como bases distintas según si respondieron o no ITF\n",
    "respondieron = eph_final.loc[eph_final['ITF']>0]\n",
    "\n",
    "no_respondieron = eph_final.loc[eph_final['ITF']==0]"
   ]
  },
  {
   "cell_type": "markdown",
   "id": "0bc8e134",
   "metadata": {},
   "source": [
    "##### 4 "
   ]
  },
  {
   "cell_type": "code",
   "execution_count": 80,
   "id": "8d3974ec",
   "metadata": {},
   "outputs": [
    {
     "name": "stderr",
     "output_type": "stream",
     "text": [
      "<ipython-input-80-64a87fa95155>:4: SettingWithCopyWarning: \n",
      "A value is trying to be set on a copy of a slice from a DataFrame.\n",
      "Try using .loc[row_indexer,col_indexer] = value instead\n",
      "\n",
      "See the caveats in the documentation: https://pandas.pydata.org/pandas-docs/stable/user_guide/indexing.html#returning-a-view-versus-a-copy\n",
      "  respondieron['ingreso_necesario']=18914*respondieron['ad_equiv_hogar']\n"
     ]
    },
    {
     "data": {
      "text/html": [
       "<div>\n",
       "<style scoped>\n",
       "    .dataframe tbody tr th:only-of-type {\n",
       "        vertical-align: middle;\n",
       "    }\n",
       "\n",
       "    .dataframe tbody tr th {\n",
       "        vertical-align: top;\n",
       "    }\n",
       "\n",
       "    .dataframe thead th {\n",
       "        text-align: right;\n",
       "    }\n",
       "</style>\n",
       "<table border=\"1\" class=\"dataframe\">\n",
       "  <thead>\n",
       "    <tr style=\"text-align: right;\">\n",
       "      <th></th>\n",
       "      <th>CODUSU</th>\n",
       "      <th>ANO4</th>\n",
       "      <th>TRIMESTRE</th>\n",
       "      <th>NRO_HOGAR</th>\n",
       "      <th>COMPONENTE</th>\n",
       "      <th>H15</th>\n",
       "      <th>REGION</th>\n",
       "      <th>MAS_500</th>\n",
       "      <th>AGLOMERADO</th>\n",
       "      <th>PONDERA</th>\n",
       "      <th>...</th>\n",
       "      <th>GDECCFR</th>\n",
       "      <th>PDECCFR</th>\n",
       "      <th>ADECCFR</th>\n",
       "      <th>PONDIH</th>\n",
       "      <th>edad</th>\n",
       "      <th>equivalencia_x</th>\n",
       "      <th>equivalencia_y</th>\n",
       "      <th>Equivalencia</th>\n",
       "      <th>ad_equiv_hogar</th>\n",
       "      <th>ingreso_necesario</th>\n",
       "    </tr>\n",
       "  </thead>\n",
       "  <tbody>\n",
       "    <tr>\n",
       "      <th>0</th>\n",
       "      <td>TQRMNOPPRHKMLNCDEIIAD00655703</td>\n",
       "      <td>2021</td>\n",
       "      <td>1</td>\n",
       "      <td>1</td>\n",
       "      <td>1</td>\n",
       "      <td>1</td>\n",
       "      <td>1</td>\n",
       "      <td>S</td>\n",
       "      <td>32</td>\n",
       "      <td>1394</td>\n",
       "      <td>...</td>\n",
       "      <td>10.0</td>\n",
       "      <td>0.0</td>\n",
       "      <td>10.0</td>\n",
       "      <td>2494</td>\n",
       "      <td>18 a 29 años</td>\n",
       "      <td>0.76</td>\n",
       "      <td>NaN</td>\n",
       "      <td>0.76</td>\n",
       "      <td>1.52</td>\n",
       "      <td>28749.28</td>\n",
       "    </tr>\n",
       "    <tr>\n",
       "      <th>1</th>\n",
       "      <td>TQRMNOPPRHKMLNCDEIIAD00655703</td>\n",
       "      <td>2021</td>\n",
       "      <td>1</td>\n",
       "      <td>1</td>\n",
       "      <td>2</td>\n",
       "      <td>1</td>\n",
       "      <td>1</td>\n",
       "      <td>S</td>\n",
       "      <td>32</td>\n",
       "      <td>1394</td>\n",
       "      <td>...</td>\n",
       "      <td>10.0</td>\n",
       "      <td>0.0</td>\n",
       "      <td>10.0</td>\n",
       "      <td>2494</td>\n",
       "      <td>18 a 29 años</td>\n",
       "      <td>NaN</td>\n",
       "      <td>0.76</td>\n",
       "      <td>0.76</td>\n",
       "      <td>1.52</td>\n",
       "      <td>28749.28</td>\n",
       "    </tr>\n",
       "    <tr>\n",
       "      <th>9</th>\n",
       "      <td>TQRMNOPPXHLLLNCDEIIAD00690221</td>\n",
       "      <td>2021</td>\n",
       "      <td>1</td>\n",
       "      <td>1</td>\n",
       "      <td>1</td>\n",
       "      <td>1</td>\n",
       "      <td>1</td>\n",
       "      <td>S</td>\n",
       "      <td>32</td>\n",
       "      <td>3745</td>\n",
       "      <td>...</td>\n",
       "      <td>8.0</td>\n",
       "      <td>0.0</td>\n",
       "      <td>6.0</td>\n",
       "      <td>7389</td>\n",
       "      <td>61 a 75 años</td>\n",
       "      <td>0.67</td>\n",
       "      <td>NaN</td>\n",
       "      <td>0.67</td>\n",
       "      <td>2.10</td>\n",
       "      <td>39719.40</td>\n",
       "    </tr>\n",
       "    <tr>\n",
       "      <th>10</th>\n",
       "      <td>TQRMNOPPXHLLLNCDEIIAD00690221</td>\n",
       "      <td>2021</td>\n",
       "      <td>1</td>\n",
       "      <td>1</td>\n",
       "      <td>3</td>\n",
       "      <td>1</td>\n",
       "      <td>1</td>\n",
       "      <td>S</td>\n",
       "      <td>32</td>\n",
       "      <td>3745</td>\n",
       "      <td>...</td>\n",
       "      <td>8.0</td>\n",
       "      <td>0.0</td>\n",
       "      <td>6.0</td>\n",
       "      <td>7389</td>\n",
       "      <td>18 a 29 años</td>\n",
       "      <td>0.76</td>\n",
       "      <td>NaN</td>\n",
       "      <td>0.76</td>\n",
       "      <td>2.10</td>\n",
       "      <td>39719.40</td>\n",
       "    </tr>\n",
       "  </tbody>\n",
       "</table>\n",
       "<p>4 rows × 183 columns</p>\n",
       "</div>"
      ],
      "text/plain": [
       "                           CODUSU  ANO4  TRIMESTRE  NRO_HOGAR  COMPONENTE  \\\n",
       "0   TQRMNOPPRHKMLNCDEIIAD00655703  2021          1          1           1   \n",
       "1   TQRMNOPPRHKMLNCDEIIAD00655703  2021          1          1           2   \n",
       "9   TQRMNOPPXHLLLNCDEIIAD00690221  2021          1          1           1   \n",
       "10  TQRMNOPPXHLLLNCDEIIAD00690221  2021          1          1           3   \n",
       "\n",
       "    H15  REGION MAS_500  AGLOMERADO  PONDERA  ...  GDECCFR  PDECCFR ADECCFR  \\\n",
       "0     1       1       S          32     1394  ...     10.0      0.0    10.0   \n",
       "1     1       1       S          32     1394  ...     10.0      0.0    10.0   \n",
       "9     1       1       S          32     3745  ...      8.0      0.0     6.0   \n",
       "10    1       1       S          32     3745  ...      8.0      0.0     6.0   \n",
       "\n",
       "    PONDIH          edad  equivalencia_x  equivalencia_y  Equivalencia  \\\n",
       "0     2494  18 a 29 años            0.76             NaN          0.76   \n",
       "1     2494  18 a 29 años             NaN            0.76          0.76   \n",
       "9     7389  61 a 75 años            0.67             NaN          0.67   \n",
       "10    7389  18 a 29 años            0.76             NaN          0.76   \n",
       "\n",
       "    ad_equiv_hogar  ingreso_necesario  \n",
       "0             1.52           28749.28  \n",
       "1             1.52           28749.28  \n",
       "9             2.10           39719.40  \n",
       "10            2.10           39719.40  \n",
       "\n",
       "[4 rows x 183 columns]"
      ]
     },
     "execution_count": 80,
     "metadata": {},
     "output_type": "execute_result"
    }
   ],
   "source": [
    "# Creamos la variable ingreso_necesario en la base de datos \"respondieron\", esta variable resulta de multiplicar \n",
    "# 18914 por cada valor de \"ad_equiv_hogar\"\n",
    "\n",
    "respondieron['ingreso_necesario']=18914*respondieron['ad_equiv_hogar']\n",
    "\n",
    "# Observamos los resultados\n",
    "\n",
    "respondieron.head(4)\n",
    "\n"
   ]
  },
  {
   "cell_type": "code",
   "execution_count": 81,
   "id": "758b1cd4",
   "metadata": {},
   "outputs": [
    {
     "data": {
      "text/plain": [
       "45598.854728000355"
      ]
     },
     "execution_count": 81,
     "metadata": {},
     "output_type": "execute_result"
    }
   ],
   "source": [
    "# Calculamos la media de la variable ingreso necesario \n",
    "\n",
    "respondieron['ingreso_necesario'].mean()\n"
   ]
  },
  {
   "cell_type": "code",
   "execution_count": 82,
   "id": "7c1fd052",
   "metadata": {},
   "outputs": [
    {
     "data": {
      "text/plain": [
       "88168.4864"
      ]
     },
     "execution_count": 82,
     "metadata": {},
     "output_type": "execute_result"
    }
   ],
   "source": [
    "# Calculamos la media de la variable ITF\n",
    "\n",
    "respondieron['ITF'].mean()\n"
   ]
  },
  {
   "cell_type": "markdown",
   "id": "fb3a388f",
   "metadata": {},
   "source": [
    "##### 5"
   ]
  },
  {
   "cell_type": "code",
   "execution_count": 83,
   "id": "99d2675d",
   "metadata": {},
   "outputs": [],
   "source": [
    "# Por último, agregue a respondieron una columna llamada pobre que tome valor 1 si\n",
    "# ingreso_necesario es menor al ITF que reportó esa familia, y 0 en caso contrario.\n",
    "# ¿Cuántos pobres identificó?"
   ]
  },
  {
   "cell_type": "code",
   "execution_count": 84,
   "id": "1615fcbd",
   "metadata": {},
   "outputs": [
    {
     "name": "stderr",
     "output_type": "stream",
     "text": [
      "<ipython-input-84-cd2a7abade30>:5: SettingWithCopyWarning: \n",
      "A value is trying to be set on a copy of a slice from a DataFrame.\n",
      "Try using .loc[row_indexer,col_indexer] = value instead\n",
      "\n",
      "See the caveats in the documentation: https://pandas.pydata.org/pandas-docs/stable/user_guide/indexing.html#returning-a-view-versus-a-copy\n",
      "  respondieron['pobres']=0\n",
      "C:\\Users\\Abi\\anaconda3\\lib\\site-packages\\pandas\\core\\indexing.py:1720: SettingWithCopyWarning: \n",
      "A value is trying to be set on a copy of a slice from a DataFrame.\n",
      "Try using .loc[row_indexer,col_indexer] = value instead\n",
      "\n",
      "See the caveats in the documentation: https://pandas.pydata.org/pandas-docs/stable/user_guide/indexing.html#returning-a-view-versus-a-copy\n",
      "  self._setitem_single_column(loc, value, pi)\n"
     ]
    }
   ],
   "source": [
    "# Creamos la variable pobre: \n",
    "\n",
    "# En principio solo toma como valor cero\n",
    "\n",
    "respondieron['pobres']=0\n",
    "\n",
    "# Reemplazamos con 1 en la variable 'pobre' si el ingreso necesario es menor al ITF que se respondió en la encuesta\n",
    "\n",
    "respondieron.loc[respondieron.ingreso_necesario > respondieron.ITF, 'pobres']=1\n",
    "\n",
    "\n"
   ]
  },
  {
   "cell_type": "code",
   "execution_count": 85,
   "id": "aa6f7931",
   "metadata": {},
   "outputs": [
    {
     "data": {
      "text/plain": [
       "0    1805\n",
       "1     695\n",
       "Name: pobres, dtype: int64"
      ]
     },
     "execution_count": 85,
     "metadata": {},
     "output_type": "execute_result"
    }
   ],
   "source": [
    "# Calculamos la cantidad de pobres: \n",
    "\n",
    "respondieron['pobres'].value_counts()\n",
    "\n"
   ]
  },
  {
   "cell_type": "code",
   "execution_count": 86,
   "id": "3c7d6335",
   "metadata": {},
   "outputs": [
    {
     "data": {
      "text/plain": [
       "count    2500.000000\n",
       "mean        0.278000\n",
       "std         0.448103\n",
       "min         0.000000\n",
       "25%         0.000000\n",
       "50%         0.000000\n",
       "75%         1.000000\n",
       "max         1.000000\n",
       "Name: pobres, dtype: float64"
      ]
     },
     "execution_count": 86,
     "metadata": {},
     "output_type": "execute_result"
    }
   ],
   "source": [
    "# Generamos una tabla de estadística descriptiva de la variable pobres \n",
    "\n",
    "respondieron['pobres'].describe()"
   ]
  },
  {
   "cell_type": "code",
   "execution_count": 87,
   "id": "c289326d",
   "metadata": {},
   "outputs": [
    {
     "data": {
      "image/png": "[encoded data removed]",
      "text/plain": [
       "<Figure size 504x432 with 1 Axes>"
      ]
     },
     "metadata": {},
     "output_type": "display_data"
    }
   ],
   "source": [
    "#Gráfico de barras que muestra la composición de la muestra por sexo:\n",
    "with plt.style.context('seaborn-whitegrid'):\n",
    "    respondieron.groupby('pobres').count()['CODUSU'].plot(kind='bar', color=('plum', 'greenyellow'),figsize=(7, 6), rot=0)\n",
    "    plt.xlabel('Pobres',labelpad=10,fontsize='12')\n",
    "    plt.ylabel('Cantidad de personas',labelpad=15, fontsize='12')\n",
    "    plt.title('EPH (CABA y GBA), composición según si se es pobre o no', y=1.05, fontsize='20')\n",
    "    colors ={'Pobres':'plum','No pobres':'greenyellow'}\n",
    "    labels = list(colors.keys())\n",
    "    handles = [plt.Rectangle((1,1),0.5,0.5, color=colors[label]) for label in labels]\n",
    "    plt.legend(handles, labels)\n",
    "\n",
    "# Guardamos el gráfico: \n",
    "plt.savefig(\"Figurafinal5.jpg\", bbox_inches='tight')"
   ]
  },
  {
   "cell_type": "markdown",
   "id": "8dc5d028",
   "metadata": {},
   "source": [
    "### Parte 2: Clasificación"
   ]
  },
  {
   "cell_type": "code",
   "execution_count": 148,
   "id": "1dbc0212",
   "metadata": {},
   "outputs": [],
   "source": [
    "# Importo paquetes a utilizar\n",
    "from sklearn import datasets\n",
    "from sklearn.linear_model import LogisticRegression\n",
    "from sklearn.model_selection import train_test_split\n",
    "from sklearn.metrics import confusion_matrix\n",
    "from sklearn.metrics import accuracy_score \n",
    "from sklearn.metrics import roc_curve\n",
    "from sklearn.metrics import roc_auc_score\n",
    "from sklearn.metrics import RocCurveDisplay\n",
    "from sklearn.metrics import plot_roc_curve\n",
    "from sklearn.discriminant_analysis import LinearDiscriminantAnalysis\n",
    "from sklearn.discriminant_analysis import LinearDiscriminantAnalysis\n",
    "from sklearn.discriminant_analysis import QuadraticDiscriminantAnalysis\n",
    "from sklearn.neighbors import KNeighborsClassifier\n",
    "from scipy.special import expit\n",
    "import statsmodels.api as sm\n",
    "from sklearn import preprocessing"
   ]
  },
  {
   "cell_type": "markdown",
   "id": "12833cb1",
   "metadata": {},
   "source": [
    "##### 1"
   ]
  },
  {
   "cell_type": "code",
   "execution_count": 149,
   "id": "4b042d2f",
   "metadata": {},
   "outputs": [],
   "source": [
    "# Elimino variables de la base final y también de las bases \n",
    "# \"respondieron\" y \"no respondieron\"\n",
    "a = ['PP08D1','PP08D4','PP08F1','PP08F2','PP08J2','PP08J3',\n",
    "    'P21','DECOCUR','IDECOCUR','RDECOCUR','GDECOCUR','PDECOCUR','ADECOCUR','PONDIIO','TOT_P12',    \n",
    "    'P47T','DECINDR','PONDII',\n",
    "    'V2_M','V3_M','V4_M','V5_M','V8_M','V9_M','V10_M','V11_M','V12_M','V18_M','V19_AM','V21_M','T_VI',\n",
    "    'ITF','DECIFR','IPCF','DECCFR','PONDIH','Equivalencia','ad_equiv_hogar', 'edad']\n",
    "b = a + ['ingreso_necesario']\n",
    "\n",
    "eph_final = eph_final.drop(columns = a)\n",
    "respondieron = respondieron.drop(columns = b)\n",
    "no_respondieron = no_respondieron.drop(columns = a)\n",
    "\n",
    "# Reemplazo los NaN por ceros en la base \"respondieron\"\n",
    "respondieron=respondieron.fillna(0)"
   ]
  },
  {
   "cell_type": "markdown",
   "id": "3a5cf9ee",
   "metadata": {},
   "source": [
    "##### 2 y 3"
   ]
  },
  {
   "cell_type": "code",
   "execution_count": 150,
   "id": "3583212a",
   "metadata": {},
   "outputs": [],
   "source": [
    "# Antes de dividir a la base \"respondieron\" en base de prueba y entrenamiento, establezco a la \n",
    "# variable pobres como variable dependiente, y a todas las demás como independientes (matriz X).\n",
    "# También agrego un vector de constantes a la matriz X\n",
    "y = respondieron['pobres'] \n",
    "X = respondieron[respondieron.columns.difference(['pobres','ANO4', 'level_0', 'index', 'CODUSU', 'TRIMESTRE', 'NRO_HOGAR', 'CH05', ' COMPONENTE', 'H15',\n",
    "                                                 'REGION', 'MAS_500', ' AGLOMERADO', 'PONDERA', 'CH15_COD', 'CH16_COD', 'ADECCFR', 'ADECIFR', 'IDECCFR',\n",
    "                                                 'IDECIFR', 'IDECINDR', 'RDECCFR', 'RDECIFR', 'PP09A_ESP'])]\n",
    "X = sm.add_constant(X) "
   ]
  },
  {
   "cell_type": "code",
   "execution_count": 151,
   "id": "af765103",
   "metadata": {},
   "outputs": [],
   "source": [
    "# Divido a la base respondieron en train y test\n",
    "X_train, X_test, y_train, y_test = train_test_split(X, y, test_size=0.3, random_state=42)"
   ]
  },
  {
   "cell_type": "markdown",
   "id": "a477df46",
   "metadata": {},
   "source": [
    "##### 4"
   ]
  },
  {
   "cell_type": "code",
   "execution_count": 152,
   "id": "4eb91ea4",
   "metadata": {
    "scrolled": true
   },
   "outputs": [
    {
     "name": "stderr",
     "output_type": "stream",
     "text": [
      "C:\\Users\\Flor\\anaconda3\\lib\\site-packages\\sklearn\\linear_model\\_logistic.py:762: ConvergenceWarning: lbfgs failed to converge (status=1):\n",
      "STOP: TOTAL NO. of ITERATIONS REACHED LIMIT.\n",
      "\n",
      "Increase the number of iterations (max_iter) or scale the data as shown in:\n",
      "    https://scikit-learn.org/stable/modules/preprocessing.html\n",
      "Please also refer to the documentation for alternative solver options:\n",
      "    https://scikit-learn.org/stable/modules/linear_model.html#logistic-regression\n",
      "  n_iter_i = _check_optimize_result(\n"
     ]
    }
   ],
   "source": [
    "# Modelo de Regresión logística\n",
    "log_reg = LogisticRegression().fit(X_train, y_train)\n",
    "y_pred = log_reg.predict(X_test)"
   ]
  },
  {
   "cell_type": "code",
   "execution_count": 153,
   "id": "501de017",
   "metadata": {},
   "outputs": [
    {
     "name": "stdout",
     "output_type": "stream",
     "text": [
      "Confusion Matrix :\n",
      "[[457 100]\n",
      " [ 85 108]]\n",
      "La precisión del modelo es: 0.7533333333333333\n"
     ]
    }
   ],
   "source": [
    "# Matriz de confusión y accuracy score\n",
    "matriz_confusion = confusion_matrix(y_test, y_pred)\n",
    "print('Confusion Matrix :')\n",
    "print(matriz_confusion) \n",
    "print('La precisión del modelo es:',accuracy_score(y_test, y_pred))"
   ]
  },
  {
   "cell_type": "code",
   "execution_count": 154,
   "id": "14715645",
   "metadata": {},
   "outputs": [
    {
     "name": "stdout",
     "output_type": "stream",
     "text": [
      "AUC: 0.69\n"
     ]
    }
   ],
   "source": [
    "#Calculamos el área bajo la curva ROC\n",
    "auc = roc_auc_score(y_test, y_pred)\n",
    "print('AUC: %.2f' % auc)"
   ]
  },
  {
   "cell_type": "code",
   "execution_count": 155,
   "id": "6f3b2465",
   "metadata": {},
   "outputs": [
    {
     "data": {
      "image/png": "[encoded data removed]",
      "text/plain": [
       "<Figure size 432x288 with 1 Axes>"
      ]
     },
     "metadata": {
      "needs_background": "light"
     },
     "output_type": "display_data"
    }
   ],
   "source": [
    "# Graficamos la curva ROC y la línea de 45 grados\n",
    "fpr, tpr, thresholds = roc_curve(y_test, y_pred)\n",
    "display = RocCurveDisplay(fpr=fpr, tpr=tpr, roc_auc=auc, estimator_name='Reg_log')\n",
    "display.plot()  \n",
    "plt.plot([0, 1], [0, 1], color='pink', linestyle='--')\n",
    "plt.show() "
   ]
  },
  {
   "cell_type": "code",
   "execution_count": 156,
   "id": "3e4067ed",
   "metadata": {},
   "outputs": [],
   "source": [
    "# Otro método para calcular la probabilidad de ser pobre: Análisis discriminante\n",
    "lda = LinearDiscriminantAnalysis()\n",
    "lda = lda.fit(X_train, y_train)\n",
    "y_pred_lda=lda.predict(X_test)"
   ]
  },
  {
   "cell_type": "code",
   "execution_count": 157,
   "id": "d9345a88",
   "metadata": {},
   "outputs": [
    {
     "name": "stdout",
     "output_type": "stream",
     "text": [
      "Confusion Matrix :\n",
      "[[517  40]\n",
      " [ 22 171]]\n",
      "La precisión del modelo es: %.2f 0.9173333333333333\n"
     ]
    }
   ],
   "source": [
    "# Matriz de confusión y accuracy score\n",
    "conf_lda = confusion_matrix(y_test, y_pred_lda)\n",
    "print('Confusion Matrix :')\n",
    "print(conf_lda) \n",
    "print('La precisión del modelo es: %.2f',accuracy_score(y_test, y_pred_lda))"
   ]
  },
  {
   "cell_type": "code",
   "execution_count": 158,
   "id": "5ccbb03f",
   "metadata": {},
   "outputs": [
    {
     "name": "stdout",
     "output_type": "stream",
     "text": [
      "AUC: 0.91\n"
     ]
    }
   ],
   "source": [
    "#Calculamos el área bajo la curva ROC\n",
    "auc_lda = roc_auc_score(y_test, y_pred_lda)\n",
    "print('AUC: %.2f' % auc_lda)"
   ]
  },
  {
   "cell_type": "code",
   "execution_count": 159,
   "id": "0346b43e",
   "metadata": {},
   "outputs": [
    {
     "data": {
      "image/png": "[encoded data removed]",
      "text/plain": [
       "<Figure size 432x288 with 1 Axes>"
      ]
     },
     "metadata": {
      "needs_background": "light"
     },
     "output_type": "display_data"
    }
   ],
   "source": [
    "# Graficamos la curva ROC y la línea de 45 grados\n",
    "fpr, tpr, thresholds = roc_curve(y_test, y_pred_lda)    \n",
    "display = RocCurveDisplay(fpr=fpr, tpr=tpr, roc_auc=auc_lda, estimator_name='Lda')\n",
    "display.plot()  \n",
    "plt.plot([0, 1], [0, 1], color='pink', linestyle='--')\n",
    "plt.show() "
   ]
  },
  {
   "cell_type": "code",
   "execution_count": 160,
   "id": "fffeb10d",
   "metadata": {},
   "outputs": [],
   "source": [
    "# Otro método para calcular la probabilidad de ser pobre: Modelo de K vecinos cercanos:\n",
    "\n",
    "# Además de calcular el modelo para k=3, vamos a verificar cuál es la cantidad de vecinos \n",
    "# cercanos maximiza el \"testing accuracy\" (una medida de precisión en la predicción)\n",
    "k_range = range(1,10)\n",
    "scores = {}      # Para guardar la precisión en un diccionario\n",
    "scores_list = [] # Para guardar la precisión en una lista\n",
    "for k in k_range:\n",
    "        knn = KNeighborsClassifier(n_neighbors=k)\n",
    "        knn.fit(X_train, y_train)\n",
    "        y_pred_knn = knn.predict(X_test)\n",
    "        scores[k] = accuracy_score(y_test, y_pred_knn)\n",
    "        scores_list.append(accuracy_score(y_test, y_pred_knn))"
   ]
  },
  {
   "cell_type": "code",
   "execution_count": 161,
   "id": "5b174968",
   "metadata": {},
   "outputs": [
    {
     "data": {
      "text/plain": [
       "{1: 0.8186666666666667,\n",
       " 2: 0.8386666666666667,\n",
       " 3: 0.8426666666666667,\n",
       " 4: 0.844,\n",
       " 5: 0.8386666666666667,\n",
       " 6: 0.8493333333333334,\n",
       " 7: 0.8453333333333334,\n",
       " 8: 0.844,\n",
       " 9: 0.8493333333333334}"
      ]
     },
     "execution_count": 161,
     "metadata": {},
     "output_type": "execute_result"
    }
   ],
   "source": [
    "scores"
   ]
  },
  {
   "cell_type": "code",
   "execution_count": 162,
   "id": "0892f35d",
   "metadata": {},
   "outputs": [
    {
     "data": {
      "text/plain": [
       "Text(0, 0.5, 'Testing Accuracy')"
      ]
     },
     "execution_count": 162,
     "metadata": {},
     "output_type": "execute_result"
    },
    {
     "data": {
      "image/png": "[encoded data removed]",
      "text/plain": [
       "<Figure size 432x288 with 1 Axes>"
      ]
     },
     "metadata": {
      "needs_background": "light"
     },
     "output_type": "display_data"
    }
   ],
   "source": [
    "# Graficamos la precisión en base a la cantidad de vecinos:\n",
    "plt.plot(k_range, scores_list)\n",
    "plt.xlabel('Value of K for KNN')\n",
    "plt.ylabel('Testing Accuracy')\n",
    "\n",
    "#k=9 es la cantidad de vecinos que maximiza la precisión"
   ]
  },
  {
   "cell_type": "code",
   "execution_count": 163,
   "id": "5bfeca02",
   "metadata": {},
   "outputs": [],
   "source": [
    "# Modelo de KNN con k=9\n",
    "knn = KNeighborsClassifier(n_neighbors=9, metric='euclidean')\n",
    "knn.fit(X_train, y_train) \n",
    "y_pred_knn = knn.predict(X_test)"
   ]
  },
  {
   "cell_type": "code",
   "execution_count": 164,
   "id": "52282d51",
   "metadata": {},
   "outputs": [
    {
     "name": "stdout",
     "output_type": "stream",
     "text": [
      "[[516  41]\n",
      " [ 72 121]]\n",
      "La precisión del modelo es: 0.8493333333333334\n"
     ]
    }
   ],
   "source": [
    "# Matriz de confusión y accuracy score\n",
    "knn_confusion = confusion_matrix(y_test, y_pred_knn)\n",
    "print(knn_confusion)\n",
    "print('La precisión del modelo es:',accuracy_score(y_test, y_pred_knn))"
   ]
  },
  {
   "cell_type": "code",
   "execution_count": 165,
   "id": "7c961ce9",
   "metadata": {},
   "outputs": [
    {
     "name": "stdout",
     "output_type": "stream",
     "text": [
      "AUC: 0.78\n"
     ]
    }
   ],
   "source": [
    "# Calculamos el área bajo la curva ROC\n",
    "auc_knn = roc_auc_score(y_test, y_pred_knn)\n",
    "print('AUC: %.2f' % auc_knn)"
   ]
  },
  {
   "cell_type": "code",
   "execution_count": 166,
   "id": "f83d765b",
   "metadata": {},
   "outputs": [
    {
     "data": {
      "image/png": "[encoded data removed]",
      "text/plain": [
       "<Figure size 432x288 with 1 Axes>"
      ]
     },
     "metadata": {
      "needs_background": "light"
     },
     "output_type": "display_data"
    }
   ],
   "source": [
    "# Graficamos la curva ROC y la línea de 45 grados\n",
    "fpr, tpr, thresholds = roc_curve(y_test, y_pred_knn)   \n",
    "display = RocCurveDisplay(fpr=fpr, tpr=tpr, roc_auc=auc_knn, estimator_name='KNN')\n",
    "display.plot()  \n",
    "plt.plot([0, 1], [0, 1], color='pink', linestyle='--')\n",
    "plt.show() "
   ]
  },
  {
   "cell_type": "code",
   "execution_count": 167,
   "id": "ab715630",
   "metadata": {},
   "outputs": [],
   "source": [
    "# Ahora vamos a calcular el modelo con k=3\n",
    "knn = KNeighborsClassifier(n_neighbors=3, metric='euclidean')\n",
    "knn.fit(X_train, y_train) \n",
    "y_pred_knn_3 = knn.predict(X_test)"
   ]
  },
  {
   "cell_type": "code",
   "execution_count": 168,
   "id": "e6d1ca9b",
   "metadata": {},
   "outputs": [
    {
     "name": "stdout",
     "output_type": "stream",
     "text": [
      "[[507  50]\n",
      " [ 68 125]]\n",
      "La precisión del modelo es: 0.8426666666666667\n"
     ]
    }
   ],
   "source": [
    "# Matriz de confusión y accuracy score\n",
    "knn_confusion_3 = confusion_matrix(y_test, y_pred_knn_3)\n",
    "print(knn_confusion_3)\n",
    "print('La precisión del modelo es:',accuracy_score(y_test, y_pred_knn_3))"
   ]
  },
  {
   "cell_type": "code",
   "execution_count": 169,
   "id": "0b1ee038",
   "metadata": {},
   "outputs": [
    {
     "name": "stdout",
     "output_type": "stream",
     "text": [
      "AUC: 0.78\n"
     ]
    }
   ],
   "source": [
    "# Calculamos el área bajo la curva ROC\n",
    "auc_knn_3 = roc_auc_score(y_test, y_pred_knn_3)\n",
    "print('AUC: %.2f' % auc_knn_3)"
   ]
  },
  {
   "cell_type": "code",
   "execution_count": 170,
   "id": "f57c71cf",
   "metadata": {},
   "outputs": [
    {
     "data": {
      "image/png": "[encoded data removed]",
      "text/plain": [
       "<Figure size 432x288 with 1 Axes>"
      ]
     },
     "metadata": {
      "needs_background": "light"
     },
     "output_type": "display_data"
    }
   ],
   "source": [
    "# Graficamos la curva ROC y la línea de 45 grados\n",
    "fpr, tpr, thresholds = roc_curve(y_test, y_pred_knn_3)   \n",
    "display = RocCurveDisplay(fpr=fpr, tpr=tpr, roc_auc=auc_knn_3, estimator_name='KNN con K=3')\n",
    "display.plot()  \n",
    "plt.plot([0, 1], [0, 1], color='pink', linestyle='--')\n",
    "plt.show() "
   ]
  },
  {
   "cell_type": "markdown",
   "id": "8eee202f",
   "metadata": {},
   "source": [
    "#### 5"
   ]
  },
  {
   "cell_type": "code",
   "execution_count": 171,
   "id": "b4b7b6dc",
   "metadata": {},
   "outputs": [],
   "source": [
    "# Vamos a calcular de forma adicional otra medida de precisión: el error cuadrático medio\n",
    "y_pred= pd.Series(y_pred.tolist())\n",
    "y_pred_lda = pd.Series(y_pred_lda.tolist())\n",
    "y_pred_knn = pd.Series(y_pred_knn.tolist())"
   ]
  },
  {
   "cell_type": "code",
   "execution_count": 172,
   "id": "4815b550",
   "metadata": {},
   "outputs": [
    {
     "name": "stdout",
     "output_type": "stream",
     "text": [
      "El ECM para el modelo Logit es 1.12\n",
      "El ECM para el modelo de Analisis Discriminante Lineal es 1.14\n",
      "El ECM para el modelo de Vecinos Cercano con k = 3 es 0.99\n"
     ]
    }
   ],
   "source": [
    "# Calculamos ECM de Logit:\n",
    "ecml = (np.sum((y_pred - y_train)**2))/100\n",
    "print(f'El ECM para el modelo Logit es {ecml}')\n",
    "\n",
    "# Calculamos ECM de Analisis Discriminante Lineal:\n",
    "ecmlda = (np.sum((y_pred_lda - y_train)**2))/100\n",
    "print(f'El ECM para el modelo de Analisis Discriminante Lineal es {ecmlda}')\n",
    "\n",
    "# Calculamos ECM de KNN con k=3:\n",
    "ecmknn = (np.sum((y_pred_knn - y_train)**2))/100\n",
    "print(f'El ECM para el modelo de Vecinos Cercano con k = 3 es {ecmknn}')"
   ]
  },
  {
   "cell_type": "markdown",
   "id": "4b11d1dc",
   "metadata": {},
   "source": [
    "#### 6"
   ]
  },
  {
   "cell_type": "code",
   "execution_count": 173,
   "id": "51d0fd06",
   "metadata": {},
   "outputs": [],
   "source": [
    "#Eliminamos de la base \"no_respondieron\" las variables que habíamos desechado en \"respondieron\"\n",
    "no_respondieron = no_respondieron[respondieron.columns.difference(['pobres','ANO4', 'level_0', 'index', 'CODUSU', 'TRIMESTRE', 'NRO_HOGAR', 'CH05', ' COMPONENTE', 'H15',\n",
    "                                                 'REGION', 'MAS_500', ' AGLOMERADO', 'PONDERA', 'CH15_COD', 'CH16_COD', 'ADECCFR', 'ADECIFR', 'IDECCFR',\n",
    "                                                 'IDECIFR', 'IDECINDR', 'RDECCFR', 'RDECIFR', 'PP09A_ESP'])]\n",
    "no_respondieron  = sm.add_constant(no_respondieron)"
   ]
  },
  {
   "cell_type": "code",
   "execution_count": 174,
   "id": "91b7c29d",
   "metadata": {},
   "outputs": [],
   "source": [
    "# Reemplazo los NaN por ceros en la base \"no respondieron\"\n",
    "no_respondieron=no_respondieron.fillna(0)"
   ]
  },
  {
   "cell_type": "code",
   "execution_count": 175,
   "id": "ff92ab97",
   "metadata": {},
   "outputs": [],
   "source": [
    "# Volvemos a correr el método de análisis discriminante\n",
    "lda = LinearDiscriminantAnalysis()\n",
    "lda = lda.fit(X_train, y_train)"
   ]
  },
  {
   "cell_type": "code",
   "execution_count": 176,
   "id": "ab911c0e",
   "metadata": {},
   "outputs": [],
   "source": [
    "#Predecimos cantidad de pobres en la base no respondieron\n",
    "y_pred_lda_2=lda.predict(no_respondieron)"
   ]
  },
  {
   "cell_type": "code",
   "execution_count": 177,
   "id": "3ac7466d",
   "metadata": {},
   "outputs": [],
   "source": [
    "# Aplicamos la regla de bayes\n",
    "y_pred_lda_2=np.where(y_pred_lda_2>0.5, 1, y_pred_lda_2)\n",
    "y_pred_lda_2=np.where(y_pred_lda_2<=0.5, 0, y_pred_lda_2)"
   ]
  },
  {
   "cell_type": "code",
   "execution_count": 178,
   "id": "82f5f8af",
   "metadata": {},
   "outputs": [
    {
     "data": {
      "text/plain": [
       "0    1508\n",
       "1      41\n",
       "dtype: int64"
      ]
     },
     "execution_count": 178,
     "metadata": {},
     "output_type": "execute_result"
    }
   ],
   "source": [
    "#Contamos la cantidad de pobres predecidos en la base \"no respondieron\"\n",
    "y_pred_lda_2 = pd.Series(y_pred_lda_2.tolist())\n",
    "y_pred_lda_2.value_counts()"
   ]
  },
  {
   "cell_type": "markdown",
   "id": "08cb9c12",
   "metadata": {},
   "source": [
    "#### 7"
   ]
  },
  {
   "cell_type": "code",
   "execution_count": 179,
   "id": "b5544dab",
   "metadata": {},
   "outputs": [],
   "source": [
    "# Dropeamos algunos predictores que pensamos que no aportan significativamente al poder\n",
    "# predictivo de los distintos modelo\n",
    "vars_drop= ['CAT_INAC','CH09', 'CH10', 'CH16','COMPONENTE','ESTADO','IMPUTA','PP02C2','PP02C3',\n",
    "          'PP02C4','PP02C5','PP02C6','PP02C7','PP02C8','PP02E','PP02H','PP02I']\n",
    "\n",
    "X_test = X_test.drop(columns = vars_drop)\n",
    "X_train = X_train.drop(columns = vars_drop)"
   ]
  },
  {
   "cell_type": "code",
   "execution_count": 180,
   "id": "23d8761b",
   "metadata": {},
   "outputs": [
    {
     "name": "stderr",
     "output_type": "stream",
     "text": [
      "C:\\Users\\Flor\\anaconda3\\lib\\site-packages\\sklearn\\linear_model\\_logistic.py:762: ConvergenceWarning: lbfgs failed to converge (status=1):\n",
      "STOP: TOTAL NO. of ITERATIONS REACHED LIMIT.\n",
      "\n",
      "Increase the number of iterations (max_iter) or scale the data as shown in:\n",
      "    https://scikit-learn.org/stable/modules/preprocessing.html\n",
      "Please also refer to the documentation for alternative solver options:\n",
      "    https://scikit-learn.org/stable/modules/linear_model.html#logistic-regression\n",
      "  n_iter_i = _check_optimize_result(\n"
     ]
    }
   ],
   "source": [
    "# Calculamos la regresión logística nuevamente con la nueva matriz X\n",
    "log_reg_2 = LogisticRegression().fit(X_train, y_train)\n",
    "y_pred_3 = log_reg_2.predict(X_test)"
   ]
  },
  {
   "cell_type": "code",
   "execution_count": 181,
   "id": "9b433dbd",
   "metadata": {},
   "outputs": [
    {
     "name": "stdout",
     "output_type": "stream",
     "text": [
      "Confusion Matrix :\n",
      "[[458  99]\n",
      " [ 84 109]]\n",
      "Accuracy Score : 0.756\n"
     ]
    }
   ],
   "source": [
    "# Matriz de confusión y accuracy score\n",
    "matriz_confusion_2 = confusion_matrix(y_test, y_pred_3)\n",
    "\n",
    "print('Confusion Matrix :')\n",
    "print(matriz_confusion_2) \n",
    "print('Accuracy Score :',accuracy_score(y_test, y_pred_3))"
   ]
  },
  {
   "cell_type": "code",
   "execution_count": 182,
   "id": "d79e01a7",
   "metadata": {},
   "outputs": [
    {
     "name": "stdout",
     "output_type": "stream",
     "text": [
      "AUC: 0.69\n"
     ]
    }
   ],
   "source": [
    "# Calculamos el área bajo la curva ROC\n",
    "auc_2 = roc_auc_score(y_test, y_pred_3)\n",
    "print('AUC: %.2f' % auc_2)"
   ]
  },
  {
   "cell_type": "code",
   "execution_count": 183,
   "id": "f79239c9",
   "metadata": {},
   "outputs": [
    {
     "data": {
      "image/png": "[encoded data removed]",
      "text/plain": [
       "<Figure size 432x288 with 1 Axes>"
      ]
     },
     "metadata": {
      "needs_background": "light"
     },
     "output_type": "display_data"
    }
   ],
   "source": [
    "# Graficamos la curva ROC y la línea de 45 grados\n",
    "fpr, tpr, thresholds = roc_curve(y_test, y_pred_3)\n",
    "display = RocCurveDisplay(fpr=fpr, tpr=tpr, roc_auc=auc_2, estimator_name='Reg_log_2')\n",
    "display.plot()  \n",
    "plt.plot([0, 1], [0, 1], color='pink', linestyle='--')\n",
    "plt.show() "
   ]
  }
 ],
 "metadata": {
  "kernelspec": {
   "display_name": "Python 3",
   "language": "python",
   "name": "python3"
  },
  "language_info": {
   "codemirror_mode": {
    "name": "ipython",
    "version": 3
   },
   "file_extension": ".py",
   "mimetype": "text/x-python",
   "name": "python",
   "nbconvert_exporter": "python",
   "pygments_lexer": "ipython3",
   "version": "3.8.8"
  }
 },
 "nbformat": 4,
 "nbformat_minor": 5
}
