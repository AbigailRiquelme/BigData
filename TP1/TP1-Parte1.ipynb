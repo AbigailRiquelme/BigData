{
 "cells": [
  {
   "cell_type": "markdown",
   "metadata": {
    "collapsed": true
   },
   "source": [
    "# Curso de Big Data\n",
    "\n",
    "## Trabajo Practico 1 - Parte 1"
   ]
  },
  {
   "cell_type": "markdown",
   "metadata": {},
   "source": [
    "### Reglas de formato y presentación\n",
    "- El trabajo debe estar bien comentado (utilizando #) para que el codigo sea facíl de entender por sus compañeros y profesores.\n",
    "\n",
    "- El mismo debe ser completado en este Jupyter Notebook y entregado como tal, es decir en un archivo .ipynb\n"
   ]
  },
  {
   "cell_type": "markdown",
   "metadata": {},
   "source": [
    "### Fecha de entrega:\n",
    "Lunes 23/8 a las 23:59hs"
   ]
  },
  {
   "cell_type": "markdown",
   "metadata": {},
   "source": [
    "### Modalidad de entrega\n",
    "- Al finalizar el trabajo práctico deben hacer un último <i>commit</i> en su repositorio de GitHub con el mensaje “Entrega final del tp”. \n",
    "- Asegurense de haber creado una carpeta llamada TP1. Este Jupyter Notebook y el correspondiente al TP1 - Parte 2 deben estar dentro de esa carpeta.\n",
    "- Tambíen deben completar el link de su repositorio -para que pueda ser clonado y corregido- en la siguiente google sheet: https://docs.google.com/spreadsheets/d/1qaXCveEw3MjEwXQsu2zpqUz34BiaCMR0WapcsQ7jGs0/edit?usp=sharing\n",
    "- La última versión en el repositorio es la que será evaluada. Por lo que es importante que: \n",
    "    - No completen la google sheet hasta no haber terminado y estar seguros de que han hecho el <i>commit y push</i> a la versión final que quieren entregar. Debido a que se pueden tomar hasta 3 días de extensión a lo largo del curso, yo no corregiré sus tareas hasta no ver el link en la google sheet.\n",
    "    - No hagan nuevos <i>push</i> despues de habér entregado su versión final. Esto generaría confusión acerca de que versión es la que quieren que se les corrija. "
   ]
  },
  {
   "cell_type": "markdown",
   "metadata": {},
   "source": [
    "#### Ejercicio 1\n",
    "Este ejercicio simplemente busca repasar lo que aprendimos sobre definición de variables. Definí tres variables con un nombre combinado (al menos dos palabras): \n",
    "(a) Una siguiendo las buenas prácticas. \n",
    "(b) Hacer lo mismo de manera técnicamente correcta (sin error) pero sin seguir las buenas prácticas. \n",
    "(c) Intentar definir una variable con un nombre inacceptable (genera error)."
   ]
  },
  {
   "cell_type": "code",
   "execution_count": 4,
   "metadata": {},
   "outputs": [
    {
     "ename": "SyntaxError",
     "evalue": "invalid syntax (<ipython-input-4-aef55d3d2f3a>, line 11)",
     "output_type": "error",
     "traceback": [
      "\u001b[1;36m  File \u001b[1;32m\"<ipython-input-4-aef55d3d2f3a>\"\u001b[1;36m, line \u001b[1;32m11\u001b[0m\n\u001b[1;33m    percepcion_pobreza_argentina! = \"moderada\"\u001b[0m\n\u001b[1;37m                                ^\u001b[0m\n\u001b[1;31mSyntaxError\u001b[0m\u001b[1;31m:\u001b[0m invalid syntax\n"
     ]
    }
   ],
   "source": [
    "# Caso A\n",
    "\n",
    "percepcion_pobreza_argentina = \"moderada\" #variable definida siguiendo las buenas prácticas\n",
    "\n",
    "# Caso B\n",
    "\n",
    "PercepcionPobrezaArgentina = \"moderada\" #variable definida sin seguir las buenas prácticas\n",
    "\n",
    "# Caso C (acá abajo debería saltar un error)\n",
    "\n",
    "percepcion_pobreza_argentina! = \"moderada\" #variable definida erróneamente"
   ]
  },
  {
   "cell_type": "markdown",
   "metadata": {},
   "source": [
    "#### Ejercicio 2\n",
    "Este ejercicio trata sobre la sustitución de variables y el uso de variables temporales para hacerlo. Las variables temporales y la sustitución de valores termina siendo útil en algunos loops. Los pasos a seguir son: (a) definir variables A y B (cuyos valores buscaremos invertir); (b) definir una variable temporal que resguarde el valor de B; (c) sustitución (asignar B igual a A y también A igual al valor original de B); (d) imprimir valores para verificar."
   ]
  },
  {
   "cell_type": "code",
   "execution_count": 2,
   "metadata": {},
   "outputs": [
    {
     "name": "stdout",
     "output_type": "stream",
     "text": [
      "2\n",
      "1\n"
     ]
    }
   ],
   "source": [
    "# Definir variables A y B, \n",
    "\n",
    "A = 1 \n",
    "B = 2\n",
    "\n",
    "# Definir variable temporal \"tmp\" igual a B (la variable, no el valor)\n",
    "\n",
    "tmp = B\n",
    "\n",
    "# Ahora sustituir variables: variable B igual a variable A (la variable, no el\n",
    "# valor) y viceversa.\n",
    "\n",
    "B = A \n",
    "\n",
    "A = tmp\n",
    "\n",
    "# Verifiquemos resultados: imprimir variables A y B\n",
    "\n",
    "print(A)\n",
    "print(B)"
   ]
  },
  {
   "cell_type": "markdown",
   "metadata": {},
   "source": [
    "#### Ejercicio 3\n",
    "Pongamos en práctica el uso de range() en un for loop. \n",
    "\n",
    "Construir un for loop usando un range(). El range debe ser entre los valores que quieran (con una diferencia mínima de 15 entre start y stop), en incrementos de 3 unidades. Dentro del loop, implementar una sentencia condicional que imprimar una leyenda indicando si el input es par o impar.\n",
    "\n",
    "Nota: busquen en internet como usar range(). Ej: https://pynative.com/python-range-function/#h-range-start-stop-step"
   ]
  },
  {
   "cell_type": "code",
   "execution_count": 2,
   "metadata": {},
   "outputs": [
    {
     "name": "stdout",
     "output_type": "stream",
     "text": [
      "El número 35 es impar\n",
      "El número 38 es par!\n",
      "El número 41 es impar\n",
      "El número 44 es par!\n",
      "El número 47 es impar\n"
     ]
    }
   ],
   "source": [
    "for n in range(35, 50, 3): #crea una secuencia de números empezando por 35 hasta 50 (no inclusive) incrementando de a 3\n",
    "    if n % 2 ==0: #si el elemento de la secuencia es par\n",
    "        print(f\"El número {n} es par!\") #imprime mensaje indicando que es par\n",
    "    else: #para todos los demás casos\n",
    "        print(f\"El número {n} es impar!\") #imprime mensaje indicando que es impar"
   ]
  },
  {
   "cell_type": "markdown",
   "metadata": {},
   "source": [
    "#### Ejercicio 4\n",
    "Para practicar el uso de condiciones lógicas, construyamos una sentencia condicional que verifique si un año es bisiesto o no. Para que un año sea bisiesto debe cumplir una de dos condiciones:\n",
    "\n",
    "(a) que sea divisible por 400; o\n",
    "\n",
    "(b) que sea divisible por 4 y no sea divisible por 100\n",
    "\n",
    "Nótese que son dos condiciones, dónde la segunda condición tiene dos componentes. Prueben la sentencia con una serie de valores para verificar que funcione."
   ]
  },
  {
   "cell_type": "code",
   "execution_count": 2,
   "metadata": {},
   "outputs": [],
   "source": [
    "def esbisiesto(ano): #defino una función cuya var independiente es año y que indica si el año es bisiesto o no\n",
    "    '''\n",
    "    Esta función recibe como input un año y devuelve un statement que indica si el año es bisiesto o no. \n",
    "    Input: \n",
    "      ano (int): el año al que se desea caracterizar como bisiesto o no\n",
    "     Output:\n",
    "      str: statement que indica si el año es bisiesto o no\n",
    "    '''\n",
    "    if ((ano % 4 ==0) and (ano % 100 !=0)) or (ano % 400 ==0): #si el año es dividisble por 4 y a la vez no divisible por 100, o si el año es divisible por 400\n",
    "        print(\"El año \"+str(ano)+\" es bisiesto!\") #imprime mensaje indicando que el año es bisiesto\n",
    "    else: #para todos los demás casos\n",
    "        print(\"El año \"+str(ano)+\" no es bisiesto!\") #el año no es bisiesto\n",
    "        \n",
    "# otra opcion que planteamos sin definir una función (solo sentencia condicional)\n",
    "\n",
    "for i in range(2000,2020,1): # en el loop consideramos 20 años \n",
    "    if i %400==0: # si es divisible por 400 imprimimos \"es bisiesto\"\n",
    "        print(i, \"es bisiesto\")\n",
    "    elif i %4==0 and i %100!=0: # si es divisivle por 4 y no por 100 imprimimos \"es bisiesto\"\n",
    "        print(i, \"es bisiesto\")\n",
    "    else: # si no cumple ninguna de las condiciones anteriores imprimimos \"no es bisiesto\"\n",
    "        print(i, \"no es bisiesto\")\n",
    "    \n",
    "        "
   ]
  },
  {
   "cell_type": "code",
   "execution_count": 3,
   "metadata": {},
   "outputs": [
    {
     "name": "stdout",
     "output_type": "stream",
     "text": [
      "El año 2000 es bisiesto!\n"
     ]
    }
   ],
   "source": [
    "esbisiesto(2000)"
   ]
  },
  {
   "cell_type": "markdown",
   "metadata": {
    "collapsed": true
   },
   "source": [
    "#### Ejercicio 5\n",
    "Pongamos en práctica identificar el type() de cada variable. A continuación tenemos una lista con elementos de diferentes tipos. Construyan un for loop que itere sobre la lista e imprima un cartel indicando el tipo de dato que hay en cada caso.\n",
    "\n",
    "_Ayuda: hay por lo menos dos maneras de hacer esto. En una se usa una sentencia condicional, en otra hay que usar casteo para evitar un error. Ambas son aceptables._\n"
   ]
  },
  {
   "cell_type": "code",
   "execution_count": 6,
   "metadata": {},
   "outputs": [
    {
     "name": "stdout",
     "output_type": "stream",
     "text": [
      "Encontramos un string: a\n",
      "Encontramos un integer: 2\n",
      "Encontramos un integer: -10\n",
      "Encontramos un float: 4.02\n",
      "Encontramos un float: -9.56\n",
      "Encontramos un string: buen dia\n",
      "Encontramos un string: b\n"
     ]
    }
   ],
   "source": [
    "lista = ['a',2,-10,4.02,-9.56,'buen dia','b'] #defino una lista y sus elementos\n",
    "\n",
    "for element in lista: #para cada elemento de la lista \n",
    "    if type(element) == str: #si el elemento es un string\n",
    "        print(\"Encontramos un string: \"+str(element)+\"\") #imprime mensaje indicando que es string\n",
    "    elif type(element) == int: #si el elemento es un integer\n",
    "        print(f\"Encontramos un integer: {element}\") #imprime mensaje indicando que es integer\n",
    "    elif type(element) == float: #si el elemento es un float\n",
    "        print(f\"Encontramos un float: {element}\") #imprime mensaje indicando que es un float  \n",
    "    "
   ]
  },
  {
   "cell_type": "markdown",
   "metadata": {},
   "source": [
    "#### Ejercicio 6\n",
    "Ahora definan ustedes una lista, en la que los primeros 4 elementos sean palabras (strings) la 5ta no sea string, y la 6ta sea string. Construyan un for loop que corra por la lista y que imprima la palabra y la longitud de la misma. Que el loop contenga una sentencia condicional que imprima un cartel \"Elemento no es un string: < el elemento > | < class del elemento >\" para los casos dónde el elemento evaluado no sea string.\n"
   ]
  },
  {
   "cell_type": "code",
   "execution_count": 2,
   "metadata": {},
   "outputs": [
    {
     "name": "stdout",
     "output_type": "stream",
     "text": [
      "La palabra amamos tiene longitud 6\n",
      "La palabra big tiene longitud 3\n",
      "La palabra data tiene longitud 4\n",
      "La palabra <3 tiene longitud 2\n",
      "Elemento no es un string: 5.06 es <class 'float'>\n",
      "La palabra nojoke tiene longitud 6\n"
     ]
    }
   ],
   "source": [
    "lista2 = [\"amamos\", \"big\", \"data\", \"<3\", 5.06, \"nojoke\"] #defino otra lista, llamada lista2, y sus elementos\n",
    "\n",
    "for element in lista2: #para cada elemento de la lista2\n",
    "    if type(element) == str: #si el elemento es un string\n",
    "        print(\"La palabra \"+str(element)+\" tiene longitud\", len(element)) #imprime la longitud del string e indica que es un string\n",
    "    else: #para todos los demás casos\n",
    "        print(f\"Elemento no es un string: {element} es\", type(element)) #comentar\n"
   ]
  },
  {
   "cell_type": "markdown",
   "metadata": {},
   "source": [
    "#### Ejercicio 7\n",
    "Argentina tiene una representación legislativa proporcional en la cual la cantidad de diputados se debería ajustar según el tamaño de población de cada provincia. Otra característica de la representación legislativa del país es que hay una cantidad mínima de diputados por provincia (5). Esto genera un desbalance en la cantidad de ciudadanos por cada representante en el Congreso entre provincias.\n",
    "\n",
    "A continuación preparamos algunos ejemplos, dividiendo la población de cada provincia (según el Censo 2010) por la cantida de representantes en el Congreso para esa misma jurisdicción. También armamos el equivalente para el total país y una lista con los valores provinciales.\n",
    "\n",
    "En este ejercicio les pedimos que construyan un for loop que itere sobre la lista definida y compare cada valor provincial contra el valor de proporcionalidad directa (la variable argentina). El loop debe imprimir una leyenda que indique si la provincia está sobrerepresentada, subrepresentada o con representación proporcional. Además, queremos que el mismo loop compare los valores de las provincias sobrerepresentadas y que guarde el valor de la provincia con mayor sobrerepresentación. Luego del loop impriman este valor así podemos ver que haya funcionado.\n",
    "\n",
    "_Ayuda: el ejercicio 2 les puede ayudar para resolver parte de este problema._\n",
    "\n",
    "Fuente para población: https://es.wikipedia.org/wiki/Demograf%C3%ADa_de_Argentina\n",
    "\n",
    "Fuente para representantes: https://es.wikipedia.org/wiki/C%C3%A1mara_de_Diputados_de_la_Naci%C3%B3n_Argentina"
   ]
  },
  {
   "cell_type": "code",
   "execution_count": 24,
   "metadata": {},
   "outputs": [
    {
     "name": "stdout",
     "output_type": "stream",
     "text": [
      "[73564.0, 222777.54285714286, 156832.7142857143, 25238.0, 176986.44444444444]\n"
     ]
    }
   ],
   "source": [
    "# valor de referencia: proporcionalidad\n",
    "argentina = 40117096 / 256\n",
    "\n",
    "# creamos variables para una selección de jurisdicciones\n",
    "catamarca = 367820 / 5\n",
    "buenos_aires = 15594428 / 70\n",
    "misiones = 1097829 / 7\n",
    "tierra_fuego = 126190 / 5\n",
    "tucuman = 1592878 / 9\n",
    "\n",
    "# definimos la lista para iterar\n",
    "lista_provincias = [catamarca, buenos_aires, misiones, tierra_fuego, tucuman]\n",
    "\n",
    "print(lista_provincias)"
   ]
  },
  {
   "cell_type": "code",
   "execution_count": 15,
   "metadata": {},
   "outputs": [
    {
     "data": {
      "text/plain": [
       "2"
      ]
     },
     "execution_count": 15,
     "metadata": {},
     "output_type": "execute_result"
    }
   ],
   "source": [
    "nombres_provincias=[\"Catamarca\", \"Buenos Aires\", \"Misiones\", \"Tierra del Fuego\", \"Tucumán\"]\n",
    "provincias=dict(zip(nombres_provincias,lista_provincias)) # definimos el diccionario de las provincias con sus respectivos nombres \n",
    "\n",
    "list=[] #definimos una lista vacía para completar con los ratios de las provincias sobrerepresentadas\n",
    "for key, i in provincias.items(): #creamos un for loop que itera sobre cada elemento de la lista_provincias\n",
    "    if i<argentina: # condicion para identificar a las provincias sobrerepresentadas\n",
    "        print(key, 'está sobrerepresentada')\n",
    "        list+=[i] # definimos una lista que vamos completando a medida que avanza el loop\n",
    "        base=min(list) #guardamos el minimo de la lista anterior\n",
    "    elif i>argentina: # condición para identificar a las provincias que están subrepresentadas\n",
    "        print(key,'está subrepresentada') \n",
    "    elif i==argentina: # condición para identificar si las provincias están representadas proporcionalmente\n",
    "        print(key, 'está representada proporcionalmente')\n",
    "    else: # si algún elemento del input no cumple con las condiciones anteriores imprimimos: revisar input!\n",
    "        print('Revisar input!')\n",
    "print(\"La provincia con mayor representación tiene\", base,\"habitantes por representante\")"
   ]
  },
  {
   "cell_type": "markdown",
   "metadata": {},
   "source": [
    "#### Ejercicio 8\n",
    "Si buscáramos minimizar la subrepresentación de la provincia de Buenos Aires, ¿cuántos representantes debería tener según el Censo 2010? Usemos el mismo criterio de sub/sobrerepresentacion que en el ejercicio anterior: población sobre cantidad de representantes.\n",
    "\n",
    "Para responder esta pregunta construyan un while loop que incremente de a uno la cantidad de representantes de la Provincia hasta minimizar la subrepresentación. En cada iteración impriman un cartel que diga: \"Se agregó un represntante, el total ahora es X\" dónde X es el número de representantes simulado."
   ]
  },
  {
   "cell_type": "code",
   "execution_count": 19,
   "metadata": {},
   "outputs": [],
   "source": [
    "# estos son los valores de la provincia\n",
    "representantes_pba = 70\n",
    "poblacion2010_pba = 15594428\n",
    "\n",
    "\n",
    "# y el valor de referencia nacional\n",
    "argentina = 40117096 / 256\n",
    "\n"
   ]
  },
  {
   "cell_type": "code",
   "execution_count": 20,
   "metadata": {},
   "outputs": [
    {
     "name": "stdout",
     "output_type": "stream",
     "text": [
      "Se agregó un representante, el total ahora es 71\n",
      "Se agregó un representante, el total ahora es 72\n",
      "Se agregó un representante, el total ahora es 73\n",
      "Se agregó un representante, el total ahora es 74\n",
      "Se agregó un representante, el total ahora es 75\n",
      "Se agregó un representante, el total ahora es 76\n",
      "Se agregó un representante, el total ahora es 77\n",
      "Se agregó un representante, el total ahora es 78\n",
      "Se agregó un representante, el total ahora es 79\n",
      "Se agregó un representante, el total ahora es 80\n",
      "Se agregó un representante, el total ahora es 81\n",
      "Se agregó un representante, el total ahora es 82\n",
      "Se agregó un representante, el total ahora es 83\n",
      "Se agregó un representante, el total ahora es 84\n",
      "Se agregó un representante, el total ahora es 85\n",
      "Se agregó un representante, el total ahora es 86\n",
      "Se agregó un representante, el total ahora es 87\n",
      "Se agregó un representante, el total ahora es 88\n",
      "Se agregó un representante, el total ahora es 89\n",
      "Se agregó un representante, el total ahora es 90\n",
      "Se agregó un representante, el total ahora es 91\n",
      "Se agregó un representante, el total ahora es 92\n",
      "Se agregó un representante, el total ahora es 93\n",
      "Se agregó un representante, el total ahora es 94\n",
      "Se agregó un representante, el total ahora es 95\n",
      "Se agregó un representante, el total ahora es 96\n",
      "Se agregó un representante, el total ahora es 97\n",
      "Se agregó un representante, el total ahora es 98\n",
      "Se agregó un representante, el total ahora es 99\n",
      "Se agregó un representante, el total ahora es 100\n",
      "Para minimizar la subrepresentación de la provincia de Buenos Aires, la cantidad de representantes debería ser 100\n"
     ]
    }
   ],
   "source": [
    "while (poblacion2010_pba/representantes_pba)>argentina: # sumaremos un representante siempre que \n",
    "    # la población de pba esté subrepresentada\n",
    "    representantes_pba=representantes_pba+1 # agregamos un representante a la población de pba\n",
    "    print('Se agregó un representante, el total ahora es',representantes_pba) # imprimimos que se agregó un representante\n",
    "    \n",
    "print(\"Para minimizar la subrepresentación de la provincia de Buenos Aires, la cantidad de representantes debería ser\", representantes_pba)\n"
   ]
  }
 ],
 "metadata": {
  "anaconda-cloud": {},
  "kernelspec": {
   "display_name": "Python 3",
   "language": "python",
   "name": "python3"
  },
  "language_info": {
   "codemirror_mode": {
    "name": "ipython",
    "version": 3
   },
   "file_extension": ".py",
   "mimetype": "text/x-python",
   "name": "python",
   "nbconvert_exporter": "python",
   "pygments_lexer": "ipython3",
   "version": "3.8.8"
  }
 },
 "nbformat": 4,
 "nbformat_minor": 2
}
